{
 "cells": [
  {
   "cell_type": "code",
   "execution_count": 1,
   "metadata": {},
   "outputs": [],
   "source": [
    "# Import-o-rama\n",
    "import matplotlib.pyplot as plt\n",
    "import pandas as pd\n",
    "import scipy.stats as st\n",
    "import numpy as np"
   ]
  },
  {
   "cell_type": "code",
   "execution_count": 2,
   "metadata": {},
   "outputs": [],
   "source": [
    "# Read CSV files\n",
    "hk_questions = pd.read_csv('Data/questions.csv')\n",
    "hk_answers = pd.read_csv('Data/answers.csv')\n",
    "hk_survey_year = pd.read_csv('Data/survey.csv')"
   ]
  },
  {
   "cell_type": "code",
   "execution_count": 3,
   "metadata": {},
   "outputs": [
    {
     "data": {
      "text/html": [
       "<div>\n",
       "<style scoped>\n",
       "    .dataframe tbody tr th:only-of-type {\n",
       "        vertical-align: middle;\n",
       "    }\n",
       "\n",
       "    .dataframe tbody tr th {\n",
       "        vertical-align: top;\n",
       "    }\n",
       "\n",
       "    .dataframe thead th {\n",
       "        text-align: right;\n",
       "    }\n",
       "</style>\n",
       "<table border=\"1\" class=\"dataframe\">\n",
       "  <thead>\n",
       "    <tr style=\"text-align: right;\">\n",
       "      <th></th>\n",
       "      <th>Unnamed: 0_x</th>\n",
       "      <th>Questions</th>\n",
       "      <th>questionid</th>\n",
       "      <th>Unnamed: 0_y</th>\n",
       "      <th>Answers</th>\n",
       "      <th>Year</th>\n",
       "      <th>UserID</th>\n",
       "      <th>QuestionID</th>\n",
       "    </tr>\n",
       "  </thead>\n",
       "  <tbody>\n",
       "    <tr>\n",
       "      <th>0</th>\n",
       "      <td>0</td>\n",
       "      <td>What is your age?</td>\n",
       "      <td>1</td>\n",
       "      <td>0</td>\n",
       "      <td>37</td>\n",
       "      <td>2014</td>\n",
       "      <td>1</td>\n",
       "      <td>1</td>\n",
       "    </tr>\n",
       "    <tr>\n",
       "      <th>1</th>\n",
       "      <td>0</td>\n",
       "      <td>What is your age?</td>\n",
       "      <td>1</td>\n",
       "      <td>1</td>\n",
       "      <td>44</td>\n",
       "      <td>2014</td>\n",
       "      <td>2</td>\n",
       "      <td>1</td>\n",
       "    </tr>\n",
       "    <tr>\n",
       "      <th>2</th>\n",
       "      <td>0</td>\n",
       "      <td>What is your age?</td>\n",
       "      <td>1</td>\n",
       "      <td>2</td>\n",
       "      <td>32</td>\n",
       "      <td>2014</td>\n",
       "      <td>3</td>\n",
       "      <td>1</td>\n",
       "    </tr>\n",
       "    <tr>\n",
       "      <th>3</th>\n",
       "      <td>0</td>\n",
       "      <td>What is your age?</td>\n",
       "      <td>1</td>\n",
       "      <td>3</td>\n",
       "      <td>31</td>\n",
       "      <td>2014</td>\n",
       "      <td>4</td>\n",
       "      <td>1</td>\n",
       "    </tr>\n",
       "    <tr>\n",
       "      <th>4</th>\n",
       "      <td>0</td>\n",
       "      <td>What is your age?</td>\n",
       "      <td>1</td>\n",
       "      <td>4</td>\n",
       "      <td>31</td>\n",
       "      <td>2014</td>\n",
       "      <td>5</td>\n",
       "      <td>1</td>\n",
       "    </tr>\n",
       "  </tbody>\n",
       "</table>\n",
       "</div>"
      ],
      "text/plain": [
       "   Unnamed: 0_x          Questions  questionid  Unnamed: 0_y Answers  Year  \\\n",
       "0             0  What is your age?           1             0      37  2014   \n",
       "1             0  What is your age?           1             1      44  2014   \n",
       "2             0  What is your age?           1             2      32  2014   \n",
       "3             0  What is your age?           1             3      31  2014   \n",
       "4             0  What is your age?           1             4      31  2014   \n",
       "\n",
       "   UserID  QuestionID  \n",
       "0       1           1  \n",
       "1       2           1  \n",
       "2       3           1  \n",
       "3       4           1  \n",
       "4       5           1  "
      ]
     },
     "execution_count": 3,
     "metadata": {},
     "output_type": "execute_result"
    }
   ],
   "source": [
    "# Merge Questions and answers\n",
    "hk_survey_data = pd.merge(hk_questions , hk_answers , left_on='questionid' , right_on='QuestionID')\n",
    "\n",
    "# Filter questions for HK, probably won't need all of these [1, 2, 33, 48, 49, 54, 55, 89, 92, 118]\n",
    "hk_question_ids = [1, 2, 33, 48, 49, 54, 55, 89, 92, 118]\n",
    "hk_filtered_df = hk_survey_data[hk_survey_data['QuestionID'].isin(hk_question_ids)]\n",
    "hk_filtered_df = hk_filtered_df.rename(columns={'questiontext' : 'Questions' , 'AnswerText' : 'Answers' , 'SurveyID' : 'Year'})\n",
    "hk_filtered_df.head()"
   ]
  },
  {
   "cell_type": "code",
   "execution_count": 4,
   "metadata": {},
   "outputs": [
    {
     "data": {
      "text/html": [
       "<div>\n",
       "<style scoped>\n",
       "    .dataframe tbody tr th:only-of-type {\n",
       "        vertical-align: middle;\n",
       "    }\n",
       "\n",
       "    .dataframe tbody tr th {\n",
       "        vertical-align: top;\n",
       "    }\n",
       "\n",
       "    .dataframe thead th {\n",
       "        text-align: right;\n",
       "    }\n",
       "</style>\n",
       "<table border=\"1\" class=\"dataframe\">\n",
       "  <thead>\n",
       "    <tr style=\"text-align: right;\">\n",
       "      <th>Questions</th>\n",
       "      <th>Age</th>\n",
       "      <th>Gender</th>\n",
       "      <th>Current MHD</th>\n",
       "      <th>Interference when treated</th>\n",
       "      <th>Interference when NOT treated</th>\n",
       "      <th>Productivity affected by MHD</th>\n",
       "      <th>% of work time affected</th>\n",
       "      <th>Race</th>\n",
       "      <th>MHD Interference Frequency</th>\n",
       "      <th>Work remote</th>\n",
       "    </tr>\n",
       "    <tr>\n",
       "      <th>UserID</th>\n",
       "      <th></th>\n",
       "      <th></th>\n",
       "      <th></th>\n",
       "      <th></th>\n",
       "      <th></th>\n",
       "      <th></th>\n",
       "      <th></th>\n",
       "      <th></th>\n",
       "      <th></th>\n",
       "      <th></th>\n",
       "    </tr>\n",
       "  </thead>\n",
       "  <tbody>\n",
       "    <tr>\n",
       "      <th>1</th>\n",
       "      <td>37</td>\n",
       "      <td>Female</td>\n",
       "      <td>NaN</td>\n",
       "      <td>NaN</td>\n",
       "      <td>NaN</td>\n",
       "      <td>NaN</td>\n",
       "      <td>NaN</td>\n",
       "      <td>NaN</td>\n",
       "      <td>Often</td>\n",
       "      <td>NaN</td>\n",
       "    </tr>\n",
       "    <tr>\n",
       "      <th>2</th>\n",
       "      <td>44</td>\n",
       "      <td>Male</td>\n",
       "      <td>NaN</td>\n",
       "      <td>NaN</td>\n",
       "      <td>NaN</td>\n",
       "      <td>NaN</td>\n",
       "      <td>NaN</td>\n",
       "      <td>NaN</td>\n",
       "      <td>Rarely</td>\n",
       "      <td>NaN</td>\n",
       "    </tr>\n",
       "    <tr>\n",
       "      <th>3</th>\n",
       "      <td>32</td>\n",
       "      <td>Male</td>\n",
       "      <td>NaN</td>\n",
       "      <td>NaN</td>\n",
       "      <td>NaN</td>\n",
       "      <td>NaN</td>\n",
       "      <td>NaN</td>\n",
       "      <td>NaN</td>\n",
       "      <td>Rarely</td>\n",
       "      <td>NaN</td>\n",
       "    </tr>\n",
       "    <tr>\n",
       "      <th>4</th>\n",
       "      <td>31</td>\n",
       "      <td>Male</td>\n",
       "      <td>NaN</td>\n",
       "      <td>NaN</td>\n",
       "      <td>NaN</td>\n",
       "      <td>NaN</td>\n",
       "      <td>NaN</td>\n",
       "      <td>NaN</td>\n",
       "      <td>Often</td>\n",
       "      <td>NaN</td>\n",
       "    </tr>\n",
       "    <tr>\n",
       "      <th>5</th>\n",
       "      <td>31</td>\n",
       "      <td>Male</td>\n",
       "      <td>NaN</td>\n",
       "      <td>NaN</td>\n",
       "      <td>NaN</td>\n",
       "      <td>NaN</td>\n",
       "      <td>NaN</td>\n",
       "      <td>NaN</td>\n",
       "      <td>Never</td>\n",
       "      <td>NaN</td>\n",
       "    </tr>\n",
       "    <tr>\n",
       "      <th>...</th>\n",
       "      <td>...</td>\n",
       "      <td>...</td>\n",
       "      <td>...</td>\n",
       "      <td>...</td>\n",
       "      <td>...</td>\n",
       "      <td>...</td>\n",
       "      <td>...</td>\n",
       "      <td>...</td>\n",
       "      <td>...</td>\n",
       "      <td>...</td>\n",
       "    </tr>\n",
       "    <tr>\n",
       "      <th>4214</th>\n",
       "      <td>27</td>\n",
       "      <td>male</td>\n",
       "      <td>Possibly</td>\n",
       "      <td>Sometimes</td>\n",
       "      <td>Sometimes</td>\n",
       "      <td>-1</td>\n",
       "      <td>-1</td>\n",
       "      <td>-1</td>\n",
       "      <td>NaN</td>\n",
       "      <td>NaN</td>\n",
       "    </tr>\n",
       "    <tr>\n",
       "      <th>4215</th>\n",
       "      <td>48</td>\n",
       "      <td>Male</td>\n",
       "      <td>No</td>\n",
       "      <td>Not applicable to me</td>\n",
       "      <td>Not applicable to me</td>\n",
       "      <td>Yes</td>\n",
       "      <td>26-50%</td>\n",
       "      <td>White</td>\n",
       "      <td>NaN</td>\n",
       "      <td>NaN</td>\n",
       "    </tr>\n",
       "    <tr>\n",
       "      <th>4216</th>\n",
       "      <td>50</td>\n",
       "      <td>Male</td>\n",
       "      <td>No</td>\n",
       "      <td>Never</td>\n",
       "      <td>Never</td>\n",
       "      <td>Unsure</td>\n",
       "      <td>-1</td>\n",
       "      <td>-1</td>\n",
       "      <td>NaN</td>\n",
       "      <td>NaN</td>\n",
       "    </tr>\n",
       "    <tr>\n",
       "      <th>4217</th>\n",
       "      <td>30</td>\n",
       "      <td>female</td>\n",
       "      <td>Possibly</td>\n",
       "      <td>Often</td>\n",
       "      <td>Often</td>\n",
       "      <td>-1</td>\n",
       "      <td>-1</td>\n",
       "      <td>-1</td>\n",
       "      <td>NaN</td>\n",
       "      <td>NaN</td>\n",
       "    </tr>\n",
       "    <tr>\n",
       "      <th>4218</th>\n",
       "      <td>24</td>\n",
       "      <td>Female</td>\n",
       "      <td>Yes</td>\n",
       "      <td>Sometimes</td>\n",
       "      <td>Often</td>\n",
       "      <td>-1</td>\n",
       "      <td>-1</td>\n",
       "      <td>White</td>\n",
       "      <td>NaN</td>\n",
       "      <td>NaN</td>\n",
       "    </tr>\n",
       "  </tbody>\n",
       "</table>\n",
       "<p>4218 rows × 10 columns</p>\n",
       "</div>"
      ],
      "text/plain": [
       "Questions Age  Gender Current MHD Interference when treated  \\\n",
       "UserID                                                        \n",
       "1          37  Female         NaN                       NaN   \n",
       "2          44    Male         NaN                       NaN   \n",
       "3          32    Male         NaN                       NaN   \n",
       "4          31    Male         NaN                       NaN   \n",
       "5          31    Male         NaN                       NaN   \n",
       "...        ..     ...         ...                       ...   \n",
       "4214       27    male    Possibly                 Sometimes   \n",
       "4215       48    Male          No      Not applicable to me   \n",
       "4216       50    Male          No                     Never   \n",
       "4217       30  female    Possibly                     Often   \n",
       "4218       24  Female         Yes                 Sometimes   \n",
       "\n",
       "Questions Interference when NOT treated Productivity affected by MHD  \\\n",
       "UserID                                                                 \n",
       "1                                   NaN                          NaN   \n",
       "2                                   NaN                          NaN   \n",
       "3                                   NaN                          NaN   \n",
       "4                                   NaN                          NaN   \n",
       "5                                   NaN                          NaN   \n",
       "...                                 ...                          ...   \n",
       "4214                          Sometimes                           -1   \n",
       "4215               Not applicable to me                          Yes   \n",
       "4216                              Never                       Unsure   \n",
       "4217                              Often                           -1   \n",
       "4218                              Often                           -1   \n",
       "\n",
       "Questions % of work time affected   Race MHD Interference Frequency  \\\n",
       "UserID                                                                \n",
       "1                             NaN    NaN                      Often   \n",
       "2                             NaN    NaN                     Rarely   \n",
       "3                             NaN    NaN                     Rarely   \n",
       "4                             NaN    NaN                      Often   \n",
       "5                             NaN    NaN                      Never   \n",
       "...                           ...    ...                        ...   \n",
       "4214                           -1     -1                        NaN   \n",
       "4215                       26-50%  White                        NaN   \n",
       "4216                           -1     -1                        NaN   \n",
       "4217                           -1     -1                        NaN   \n",
       "4218                           -1  White                        NaN   \n",
       "\n",
       "Questions Work remote  \n",
       "UserID                 \n",
       "1                 NaN  \n",
       "2                 NaN  \n",
       "3                 NaN  \n",
       "4                 NaN  \n",
       "5                 NaN  \n",
       "...               ...  \n",
       "4214              NaN  \n",
       "4215              NaN  \n",
       "4216              NaN  \n",
       "4217              NaN  \n",
       "4218              NaN  \n",
       "\n",
       "[4218 rows x 10 columns]"
      ]
     },
     "execution_count": 4,
     "metadata": {},
     "output_type": "execute_result"
    }
   ],
   "source": [
    " # Pivoted dataframe to get questions as columns \n",
    "hk_pivoted_df = hk_filtered_df.pivot(index='UserID' , columns='Questions', values='Answers' )\n",
    "\n",
    "# reorder columns\n",
    "hk_pivoted_df = hk_pivoted_df[['What is your age?',\n",
    "                         'What is your gender?',\n",
    "                         'Do you currently have a mental health disorder?',\n",
    "                         'If you have a mental health disorder, how often do you feel that it interferes with your work when being treated effectively?',\n",
    "                         'If you have a mental health disorder, how often do you feel that it interferes with your work when not being treated effectively (i.e., when you are experiencing symptoms)?',\n",
    "                         'Do you believe your productivity is ever affected by a mental health issue?',\n",
    "                         'If yes, what percentage of your work time (time performing primary or secondary job functions) is affected by a mental health issue?',\n",
    "                         'What is your race?',\n",
    "                         'If you have a mental health condition, do you feel that it interferes with your work?',\n",
    "                         'Do you work remotely?',\n",
    "                         ]]\n",
    "\n",
    "# rename columns \n",
    "hk_pivoted_v2_df = hk_pivoted_df.rename(columns={'What is your age?' : 'Age',\n",
    "                                           'What is your gender?': 'Gender',\n",
    "                                           'Do you currently have a mental health disorder?':'Current MHD',\n",
    "                                           'If you have a mental health disorder, how often do you feel that it interferes with your work when being treated effectively?': 'Interference when treated',\n",
    "                                           'If you have a mental health disorder, how often do you feel that it interferes with your work when not being treated effectively (i.e., when you are experiencing symptoms)?': 'Interference when NOT treated',\n",
    "                                           'Do you believe your productivity is ever affected by a mental health issue?': 'Productivity affected by MHD',\n",
    "                                           'If yes, what percentage of your work time (time performing primary or secondary job functions) is affected by a mental health issue?': '% of work time affected',\n",
    "                                           'What is your race?': 'Race',\n",
    "                                           'If you have a mental health condition, do you feel that it interferes with your work?': 'MHD Interference Frequency',\n",
    "                                           'Do you work remotely?': 'Work remote'\n",
    "                                           })\n",
    "hk_pivoted_v2_df"
   ]
  },
  {
   "cell_type": "code",
   "execution_count": 5,
   "metadata": {},
   "outputs": [
    {
     "data": {
      "text/plain": [
       "Yes           1237\n",
       "No             969\n",
       "Don't Know     752\n",
       "Name: Current MHD, dtype: int64"
      ]
     },
     "execution_count": 5,
     "metadata": {},
     "output_type": "execute_result"
    }
   ],
   "source": [
    "## Do you currently have a mental health disorder?\n",
    "# Merge redundant answers, remove NaN, and find counts\n",
    "for index, row in hk_pivoted_v2_df.iterrows():\n",
    "      if row[2] == \"Maybe\" or row[2] == \"Possibly\" or row[2] == \"Don't Know\":\n",
    "            hk_pivoted_v2_df[\"Current MHD\"] = hk_pivoted_v2_df[\"Current MHD\"].replace(row[2], \"Don't Know\")\n",
    "hk_mhd_status = hk_pivoted_v2_df[\"Current MHD\"]\n",
    "hk_mhd_status_counts = hk_mhd_status.value_counts()\n",
    "hk_mhd_status_counts"
   ]
  },
  {
   "cell_type": "code",
   "execution_count": 6,
   "metadata": {},
   "outputs": [
    {
     "data": {
      "image/png": "[encoded data removed]",
      "text/plain": [
       "<Figure size 640x480 with 1 Axes>"
      ]
     },
     "metadata": {},
     "output_type": "display_data"
    }
   ],
   "source": [
    "## Visualization for: Do you currently have a mental health disorder?\n",
    "hk_mhd_status_counts.plot(kind='bar', rot=0, facecolor=\"mediumpurple\", edgecolor = \"black\")\n",
    "# Label some things\n",
    "plt.title(\"Do you currently have a mental health disorder?\")\n",
    "plt.xlabel(\"\")\n",
    "plt.ylabel(\"Number of Responses\")\n",
    "plt.show()"
   ]
  },
  {
   "attachments": {},
   "cell_type": "markdown",
   "metadata": {},
   "source": [
    "If someone has a mental health disorder, does it interfere with their work?\n",
    "\n",
    "Naturally we would assume so, but in what capacity? How common are these issues?\n",
    "\n",
    "First, we need to narrow down how many people have mental health disorders compared to those that don't. As we can see in this bar chart, \"Yes\" was the most common overall response with a little over 40% of participants! However, we need to be careful to only take the information we need. For the purposes of our inquiry, we only want responses from those with a confirmed diagnosis, so over half of the responses are actually not relevant to us for now."
   ]
  },
  {
   "cell_type": "code",
   "execution_count": 11,
   "metadata": {},
   "outputs": [
    {
     "data": {
      "text/plain": [
       "Yes       367\n",
       "Unsure     60\n",
       "No         26\n",
       "Name: Productivity affected by MHD, dtype: int64"
      ]
     },
     "execution_count": 11,
     "metadata": {},
     "output_type": "execute_result"
    }
   ],
   "source": [
    "# If you have a mental health disorder, does it affect productivity?\n",
    "# Merge redundant answers, remove NaN, and display counts\n",
    "hk_prod_answers = [\"Yes\", \"Unsure\", \"No\"]\n",
    "hk_mhd_productivity = hk_pivoted_v2_df[hk_pivoted_v2_df[\"Productivity affected by MHD\"].isin(hk_prod_answers)]\n",
    "hk_mhd_productivity = hk_mhd_productivity[\"Productivity affected by MHD\"]\n",
    "hk_mhd_prod_counts = hk_mhd_productivity.value_counts()\n",
    "hk_mhd_prod_counts"
   ]
  },
  {
   "cell_type": "code",
   "execution_count": 8,
   "metadata": {},
   "outputs": [
    {
     "data": {
      "image/png": "[encoded data removed]",
      "text/plain": [
       "<Figure size 640x480 with 1 Axes>"
      ]
     },
     "metadata": {},
     "output_type": "display_data"
    }
   ],
   "source": [
    "## Visualization for: Does your mental health disorder affect your productivity?\n",
    "hk_mhd_prod_counts.plot(kind='bar', rot=0, facecolor=\"mediumpurple\", edgecolor = \"black\")\n",
    "# Label some things\n",
    "plt.title(\"Does your mental health disorder affect your productivity?\")\n",
    "plt.xlabel(\"\")\n",
    "plt.ylabel(\"Number of Responses\")\n",
    "plt.show()"
   ]
  },
  {
   "attachments": {},
   "cell_type": "markdown",
   "metadata": {},
   "source": [
    "As we can see here, the vast majority (roughly 80%) of those claiming to have mental health disorders also assert that their productivity is impacted. The answer to our initial question appears to be solved, but we can actually look into this even further!"
   ]
  },
  {
   "cell_type": "code",
   "execution_count": 12,
   "metadata": {},
   "outputs": [
    {
     "data": {
      "text/plain": [
       "Sometimes    466\n",
       "Never        213\n",
       "Rarely       173\n",
       "Often        144\n",
       "Name: MHD Interference Frequency, dtype: int64"
      ]
     },
     "execution_count": 12,
     "metadata": {},
     "output_type": "execute_result"
    }
   ],
   "source": [
    "# If you have a mental health disorder, how often does it interfere with work?\n",
    "# Merge redundant answers, remove NaN, and display counts\n",
    "hk_freq_answers = [\"Sometimes\", \"Never\", \"Rarely\", \"Often\"]\n",
    "hk_mhd_frequency = hk_pivoted_v2_df[hk_pivoted_v2_df[\"MHD Interference Frequency\"].isin(hk_freq_answers)]\n",
    "hk_mhd_frequency = hk_mhd_frequency[\"MHD Interference Frequency\"]\n",
    "hk_mhd_freq_counts = hk_mhd_frequency.value_counts()\n",
    "hk_mhd_freq_counts"
   ]
  },
  {
   "cell_type": "code",
   "execution_count": 10,
   "metadata": {},
   "outputs": [
    {
     "data": {
      "text/plain": [
       "Text(0.5, 1.0, 'How frequently does your disorder affect your productivity?')"
      ]
     },
     "execution_count": 10,
     "metadata": {},
     "output_type": "execute_result"
    },
    {
     "data": {
      "image/png": "[encoded data removed]",
      "text/plain": [
       "<Figure size 640x480 with 1 Axes>"
      ]
     },
     "metadata": {},
     "output_type": "display_data"
    }
   ],
   "source": [
    "# Let's try pie\n",
    "hk_freq_answers = [\"Sometimes\", \"Never\", \"Rarely\", \"Often\"]\n",
    "hk_freq_explode = (0, 0.1, 0, 0)\n",
    "hk_freq_colors = ['#ff9999','#66b3ff','#99ff99','#ffcc99']\n",
    "fig1, ax1 = plt.subplots()\n",
    "ax1.pie(hk_mhd_freq_counts, explode=hk_freq_explode, labels=hk_freq_answers, colors=hk_freq_colors, autopct='%1.1f%%', shadow=True, startangle=90)\n",
    "plt.title(\"How frequently does your disorder affect your productivity?\")"
   ]
  },
  {
   "attachments": {},
   "cell_type": "markdown",
   "metadata": {},
   "source": [
    "From this data, we can examine that ~80% impact of a mental health disorder on productivity. The responses for \"Often\", \"Sometimes\", and \"Rarely\" all indicate that yes, a mental health disorder does incluence the employees' workflow! A little over 20% seem to beat the odds and \"Never\" feel their work to be affected, and if anything, that should be commended! Good for them!\n",
    "\n",
    "If we look back at our original responses to \"Do you have a mental health disorder?\", we can see that 1237 employees claimed to have a mental health disorder. If we apply the 78.7% percentage from the final chart, those whose productivity is impacted by their disorder, we find that 32.93% (one third of those surveyed!) of all productivty is influenced in some way! \n",
    "\n",
    "So what does all of this mean? It means we can confidently say yes, mental health disorders do affect work productivity! And it's a substantial amount too! This limited study also only examined those who had a confirmed diagnosis. The number could be higher if we were to actually have definitive tests done on those who didn't know if they were afflicted. This is a hugely impactful metric and with more thorough testing and a wider access to the healthcare needed to properly diagnose, we can take steps to improve these conditions."
   ]
  }
 ],
 "metadata": {
  "kernelspec": {
   "display_name": "base",
   "language": "python",
   "name": "python3"
  },
  "language_info": {
   "codemirror_mode": {
    "name": "ipython",
    "version": 3
   },
   "file_extension": ".py",
   "mimetype": "text/x-python",
   "name": "python",
   "nbconvert_exporter": "python",
   "pygments_lexer": "ipython3",
   "version": "3.9.13"
  },
  "orig_nbformat": 4,
  "vscode": {
   "interpreter": {
    "hash": "d6491074cf2e4af1b221b25b3d0d31ba176b5e22e547762a3a10fe67e5248ea5"
   }
  }
 },
 "nbformat": 4,
 "nbformat_minor": 2
}
