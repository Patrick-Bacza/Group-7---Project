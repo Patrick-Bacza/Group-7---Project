{
 "cells": [
  {
   "attachments": {},
   "cell_type": "markdown",
   "metadata": {},
   "source": [
    "### Are employers doing enough to address their employee's mental health?\n",
    "    \n",
    "    In analyzing mental health trends inside the tech industry, it is important to see whether not employers are doing enough to address their employees mental health needs. This survey gives us insight into that by asking the folliwing three questions:\n",
    "    \n",
    "    1. Do you know the options for mental health care available under your employer-provided health coverage?\n",
    "\n",
    "    2. Does your employer offer resources to learn more about mental health disorders and options for seeking help?\n",
    "\n",
    "    3. Does your employer offer resources to learn more about mental health disorders and options for seeking help?\n",
    "\n",
    "      \n",
    "\n",
    "    "
   ]
  },
  {
   "cell_type": "code",
   "execution_count": 1,
   "metadata": {},
   "outputs": [],
   "source": [
    "import pandas as pd \n",
    "import matplotlib  as mp"
   ]
  },
  {
   "cell_type": "code",
   "execution_count": 6,
   "metadata": {},
   "outputs": [
    {
     "data": {
      "text/html": [
       "<div>\n",
       "<style scoped>\n",
       "    .dataframe tbody tr th:only-of-type {\n",
       "        vertical-align: middle;\n",
       "    }\n",
       "\n",
       "    .dataframe tbody tr th {\n",
       "        vertical-align: top;\n",
       "    }\n",
       "\n",
       "    .dataframe thead th {\n",
       "        text-align: right;\n",
       "    }\n",
       "</style>\n",
       "<table border=\"1\" class=\"dataframe\">\n",
       "  <thead>\n",
       "    <tr style=\"text-align: right;\">\n",
       "      <th></th>\n",
       "      <th>UserID</th>\n",
       "      <th>Age</th>\n",
       "      <th>Gender</th>\n",
       "      <th>Country</th>\n",
       "      <th>State/Territory</th>\n",
       "      <th>Do you know the options for mental health care available under your employer-provided health coverage?</th>\n",
       "      <th>Does your employer offer resources to learn more about mental health disorders and options for seeking help?</th>\n",
       "      <th>Has your employer ever formally discussed mental health (for example, as part of a wellness campaign or other official communication)?</th>\n",
       "    </tr>\n",
       "  </thead>\n",
       "  <tbody>\n",
       "    <tr>\n",
       "      <th>0</th>\n",
       "      <td>1</td>\n",
       "      <td>37</td>\n",
       "      <td>Female</td>\n",
       "      <td>United States</td>\n",
       "      <td>Illinois</td>\n",
       "      <td>Did Not Answer</td>\n",
       "      <td>Did Not Answer</td>\n",
       "      <td>Did Not Answer</td>\n",
       "    </tr>\n",
       "    <tr>\n",
       "      <th>1</th>\n",
       "      <td>2</td>\n",
       "      <td>44</td>\n",
       "      <td>Male</td>\n",
       "      <td>United States</td>\n",
       "      <td>Indiana</td>\n",
       "      <td>Did Not Answer</td>\n",
       "      <td>Did Not Answer</td>\n",
       "      <td>Did Not Answer</td>\n",
       "    </tr>\n",
       "    <tr>\n",
       "      <th>2</th>\n",
       "      <td>3</td>\n",
       "      <td>32</td>\n",
       "      <td>Male</td>\n",
       "      <td>Canada</td>\n",
       "      <td>Not Applicable</td>\n",
       "      <td>Did Not Answer</td>\n",
       "      <td>Did Not Answer</td>\n",
       "      <td>Did Not Answer</td>\n",
       "    </tr>\n",
       "    <tr>\n",
       "      <th>3</th>\n",
       "      <td>4</td>\n",
       "      <td>31</td>\n",
       "      <td>Male</td>\n",
       "      <td>United Kingdom</td>\n",
       "      <td>Not Applicable</td>\n",
       "      <td>Did Not Answer</td>\n",
       "      <td>Did Not Answer</td>\n",
       "      <td>Did Not Answer</td>\n",
       "    </tr>\n",
       "    <tr>\n",
       "      <th>4</th>\n",
       "      <td>5</td>\n",
       "      <td>31</td>\n",
       "      <td>Male</td>\n",
       "      <td>United States</td>\n",
       "      <td>Texas</td>\n",
       "      <td>Did Not Answer</td>\n",
       "      <td>Did Not Answer</td>\n",
       "      <td>Did Not Answer</td>\n",
       "    </tr>\n",
       "  </tbody>\n",
       "</table>\n",
       "</div>"
      ],
      "text/plain": [
       "   UserID  Age  Gender         Country State/Territory  \\\n",
       "0       1   37  Female   United States        Illinois   \n",
       "1       2   44    Male   United States         Indiana   \n",
       "2       3   32    Male          Canada  Not Applicable   \n",
       "3       4   31    Male  United Kingdom  Not Applicable   \n",
       "4       5   31    Male   United States           Texas   \n",
       "\n",
       "  Do you know the options for mental health care available under your employer-provided health coverage?  \\\n",
       "0                                     Did Not Answer                                                       \n",
       "1                                     Did Not Answer                                                       \n",
       "2                                     Did Not Answer                                                       \n",
       "3                                     Did Not Answer                                                       \n",
       "4                                     Did Not Answer                                                       \n",
       "\n",
       "  Does your employer offer resources to learn more about mental health disorders and options for seeking help?  \\\n",
       "0                                     Did Not Answer                                                             \n",
       "1                                     Did Not Answer                                                             \n",
       "2                                     Did Not Answer                                                             \n",
       "3                                     Did Not Answer                                                             \n",
       "4                                     Did Not Answer                                                             \n",
       "\n",
       "  Has your employer ever formally discussed mental health (for example, as part of a wellness campaign or other official communication)?  \n",
       "0                                     Did Not Answer                                                                                      \n",
       "1                                     Did Not Answer                                                                                      \n",
       "2                                     Did Not Answer                                                                                      \n",
       "3                                     Did Not Answer                                                                                      \n",
       "4                                     Did Not Answer                                                                                      "
      ]
     },
     "execution_count": 6,
     "metadata": {},
     "output_type": "execute_result"
    }
   ],
   "source": [
    "file = 'Data/Survey_Data.csv'\n",
    "\n",
    "Survey_Data = pd.read_csv(file)\n",
    "\n",
    "Survey_Data.head()"
   ]
  },
  {
   "cell_type": "code",
   "execution_count": null,
   "metadata": {},
   "outputs": [],
   "source": [
    "# Creat two columns 1) counts how many questions each user answered yes to 2) how many questions they answered no to. Aggregate these figures and create visualisations\n",
    "# 0-1 would be bad and 3 would be good.\n",
    "# Can also creat age bins. That could provide useful insight and could be a great visualisation. Maybe tech companies need to reach out to younger workers more so than older ones\n",
    "# If we have a lot of 3s then maybe tech companies are doing a good job look after their employees health. If there is a lot of 1s then they have room to improve.\n",
    "#\n",
    "\n"
   ]
  }
 ],
 "metadata": {
  "kernelspec": {
   "display_name": "Python 3",
   "language": "python",
   "name": "python3"
  },
  "language_info": {
   "codemirror_mode": {
    "name": "ipython",
    "version": 3
   },
   "file_extension": ".py",
   "mimetype": "text/x-python",
   "name": "python",
   "nbconvert_exporter": "python",
   "pygments_lexer": "ipython3",
   "version": "3.8.5"
  },
  "orig_nbformat": 4,
  "vscode": {
   "interpreter": {
    "hash": "58791a48c0527c1237af62f454c34ab101de3ca1b7c2175a1e9c8fbae10d0d82"
   }
  }
 },
 "nbformat": 4,
 "nbformat_minor": 2
}
