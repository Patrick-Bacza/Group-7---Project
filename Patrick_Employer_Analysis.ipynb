{
 "cells": [
  {
   "attachments": {},
   "cell_type": "markdown",
   "metadata": {},
   "source": [
    "### Are employers doing enough to address their employee's mental health?\n",
    "    \n",
    "    In analyzing mental health trends inside the tech industry, it is important to see whether or not employers are doing enough to address their employees mental health needs. This survey gives us insight into that by asking the following three questions:\n",
    "    \n",
    "    1. Do you know the options for mental health care available under your employer-provided health coverage?\n",
    "    \n",
    "        Granted employees are responsible for knowing their own benefits that are provided by their healthcare. nonetheless, employers can make sure they are communicating those benefits or at the very least reminding their employees that they have mental health benefits and they should findo ut what they are. \n",
    "\n",
    "    2. Does your employer offer resources to learn more about mental health disorders and options for seeking help?\n",
    "\n",
    "        At this point, every company should be offering resources to help employers with learning and managing their mental health disorders. We expect to see respondents answer yes to this overwhelmingly. \n",
    "\n",
    "    3. Has your employer ever formally discussed mental health (for example, as part of a wellness campaign or other official communication)?\n",
    "\n",
    "        It is important for companies to have a good line of communcation with their employees. Moreover, it is important for them to keep a consistent dialogue open about mental heath. we would hope that mostr respondents answer yes to this question.\n",
    "\n",
    "\n",
    "    The thought process here is that the more yes responses we have the more we can say that tech companies are doing enough to take care of their employees' mental health and the more no's and I don't knows There are The more these companies need to improve. To analyze this, we'll first look at how many respondents answered yes to these three questions. Second, we'll look at each question individually.\n",
    "\n",
    "      \n",
    "\n",
    "    "
   ]
  },
  {
   "cell_type": "code",
   "execution_count": 33,
   "metadata": {},
   "outputs": [],
   "source": [
    "import pandas as pd \n",
    "import matplotlib  as mp\n"
   ]
  },
  {
   "cell_type": "code",
   "execution_count": 34,
   "metadata": {},
   "outputs": [
    {
     "data": {
      "text/html": [
       "<div>\n",
       "<style scoped>\n",
       "    .dataframe tbody tr th:only-of-type {\n",
       "        vertical-align: middle;\n",
       "    }\n",
       "\n",
       "    .dataframe tbody tr th {\n",
       "        vertical-align: top;\n",
       "    }\n",
       "\n",
       "    .dataframe thead th {\n",
       "        text-align: right;\n",
       "    }\n",
       "</style>\n",
       "<table border=\"1\" class=\"dataframe\">\n",
       "  <thead>\n",
       "    <tr style=\"text-align: right;\">\n",
       "      <th></th>\n",
       "      <th>UserID</th>\n",
       "      <th>Age</th>\n",
       "      <th>Gender</th>\n",
       "      <th>Country</th>\n",
       "      <th>State/Territory</th>\n",
       "      <th>Do you know the options for mental health care available under your employer-provided health coverage?</th>\n",
       "      <th>Does your employer offer resources to learn more about mental health disorders and options for seeking help?</th>\n",
       "      <th>Has your employer ever formally discussed mental health (for example, as part of a wellness campaign or other official communication)?</th>\n",
       "    </tr>\n",
       "  </thead>\n",
       "  <tbody>\n",
       "    <tr>\n",
       "      <th>0</th>\n",
       "      <td>1</td>\n",
       "      <td>37</td>\n",
       "      <td>Female</td>\n",
       "      <td>United States</td>\n",
       "      <td>Illinois</td>\n",
       "      <td>Did Not Answer</td>\n",
       "      <td>Did Not Answer</td>\n",
       "      <td>Did Not Answer</td>\n",
       "    </tr>\n",
       "    <tr>\n",
       "      <th>1</th>\n",
       "      <td>2</td>\n",
       "      <td>44</td>\n",
       "      <td>Male</td>\n",
       "      <td>United States</td>\n",
       "      <td>Indiana</td>\n",
       "      <td>Did Not Answer</td>\n",
       "      <td>Did Not Answer</td>\n",
       "      <td>Did Not Answer</td>\n",
       "    </tr>\n",
       "    <tr>\n",
       "      <th>2</th>\n",
       "      <td>3</td>\n",
       "      <td>32</td>\n",
       "      <td>Male</td>\n",
       "      <td>Canada</td>\n",
       "      <td>Not Applicable</td>\n",
       "      <td>Did Not Answer</td>\n",
       "      <td>Did Not Answer</td>\n",
       "      <td>Did Not Answer</td>\n",
       "    </tr>\n",
       "    <tr>\n",
       "      <th>3</th>\n",
       "      <td>4</td>\n",
       "      <td>31</td>\n",
       "      <td>Male</td>\n",
       "      <td>United Kingdom</td>\n",
       "      <td>Not Applicable</td>\n",
       "      <td>Did Not Answer</td>\n",
       "      <td>Did Not Answer</td>\n",
       "      <td>Did Not Answer</td>\n",
       "    </tr>\n",
       "    <tr>\n",
       "      <th>4</th>\n",
       "      <td>5</td>\n",
       "      <td>31</td>\n",
       "      <td>Male</td>\n",
       "      <td>United States</td>\n",
       "      <td>Texas</td>\n",
       "      <td>Did Not Answer</td>\n",
       "      <td>Did Not Answer</td>\n",
       "      <td>Did Not Answer</td>\n",
       "    </tr>\n",
       "  </tbody>\n",
       "</table>\n",
       "</div>"
      ],
      "text/plain": [
       "   UserID  Age  Gender         Country State/Territory  \\\n",
       "0       1   37  Female   United States        Illinois   \n",
       "1       2   44    Male   United States         Indiana   \n",
       "2       3   32    Male          Canada  Not Applicable   \n",
       "3       4   31    Male  United Kingdom  Not Applicable   \n",
       "4       5   31    Male   United States           Texas   \n",
       "\n",
       "  Do you know the options for mental health care available under your employer-provided health coverage?  \\\n",
       "0                                     Did Not Answer                                                       \n",
       "1                                     Did Not Answer                                                       \n",
       "2                                     Did Not Answer                                                       \n",
       "3                                     Did Not Answer                                                       \n",
       "4                                     Did Not Answer                                                       \n",
       "\n",
       "  Does your employer offer resources to learn more about mental health disorders and options for seeking help?  \\\n",
       "0                                     Did Not Answer                                                             \n",
       "1                                     Did Not Answer                                                             \n",
       "2                                     Did Not Answer                                                             \n",
       "3                                     Did Not Answer                                                             \n",
       "4                                     Did Not Answer                                                             \n",
       "\n",
       "  Has your employer ever formally discussed mental health (for example, as part of a wellness campaign or other official communication)?  \n",
       "0                                     Did Not Answer                                                                                      \n",
       "1                                     Did Not Answer                                                                                      \n",
       "2                                     Did Not Answer                                                                                      \n",
       "3                                     Did Not Answer                                                                                      \n",
       "4                                     Did Not Answer                                                                                      "
      ]
     },
     "execution_count": 34,
     "metadata": {},
     "output_type": "execute_result"
    }
   ],
   "source": [
    "file = 'Data/Survey_Data.csv'\n",
    "\n",
    "Survey_Data = pd.read_csv(file)\n",
    "\n",
    "Survey_Data.head()"
   ]
  },
  {
   "cell_type": "code",
   "execution_count": 35,
   "metadata": {},
   "outputs": [],
   "source": [
    "# Name questions 1 , 2 and 3 for ease of use.\n",
    "\n",
    "Survey_Data = Survey_Data.rename(columns ={'Do you know the options for mental health care available under your employer-provided health coverage?' : 'Question 1',\n",
    "                                            'Does your employer offer resources to learn more about mental health disorders and options for seeking help?': 'Question 2',\n",
    "                                            'Has your employer ever formally discussed mental health (for example, as part of a wellness campaign or other official communication)?' : 'Question 3'})"
   ]
  },
  {
   "attachments": {},
   "cell_type": "markdown",
   "metadata": {},
   "source": [
    "Initially, I was going to include people who didn't answer the question but realized that it would skew the results against employers quite drastically. So I decided to filter them out. This leaves 2,191 respondents in the dataset"
   ]
  },
  {
   "cell_type": "code",
   "execution_count": 36,
   "metadata": {},
   "outputs": [],
   "source": [
    "# Filter out anyone who didn't answer the questions\n",
    "\n",
    "Survey_Data = Survey_Data[(Survey_Data['Question 1'] != 'Did Not Answer') & (Survey_Data['Question 2'] != 'Did Not Answer') & (Survey_Data['Question 3'] != 'Did Not Answer') ]"
   ]
  },
  {
   "attachments": {},
   "cell_type": "markdown",
   "metadata": {},
   "source": [
    "In order to count yes responses per user, I used the .apply() method with a lambda function. All I needed to do was specify the axis to run the lambda function on."
   ]
  },
  {
   "cell_type": "code",
   "execution_count": 37,
   "metadata": {},
   "outputs": [
    {
     "data": {
      "text/html": [
       "<div>\n",
       "<style scoped>\n",
       "    .dataframe tbody tr th:only-of-type {\n",
       "        vertical-align: middle;\n",
       "    }\n",
       "\n",
       "    .dataframe tbody tr th {\n",
       "        vertical-align: top;\n",
       "    }\n",
       "\n",
       "    .dataframe thead th {\n",
       "        text-align: right;\n",
       "    }\n",
       "</style>\n",
       "<table border=\"1\" class=\"dataframe\">\n",
       "  <thead>\n",
       "    <tr style=\"text-align: right;\">\n",
       "      <th></th>\n",
       "      <th>UserID</th>\n",
       "      <th>Age</th>\n",
       "      <th>Gender</th>\n",
       "      <th>Country</th>\n",
       "      <th>State/Territory</th>\n",
       "      <th>Question 1</th>\n",
       "      <th>Question 2</th>\n",
       "      <th>Question 3</th>\n",
       "      <th>Yes Responses</th>\n",
       "    </tr>\n",
       "  </thead>\n",
       "  <tbody>\n",
       "    <tr>\n",
       "      <th>1261</th>\n",
       "      <td>1262</td>\n",
       "      <td>29</td>\n",
       "      <td>Male</td>\n",
       "      <td>United States</td>\n",
       "      <td>Illinois</td>\n",
       "      <td>Yes</td>\n",
       "      <td>Yes</td>\n",
       "      <td>Yes</td>\n",
       "      <td>3</td>\n",
       "    </tr>\n",
       "    <tr>\n",
       "      <th>1264</th>\n",
       "      <td>1265</td>\n",
       "      <td>43</td>\n",
       "      <td>Female</td>\n",
       "      <td>United States</td>\n",
       "      <td>Illinois</td>\n",
       "      <td>Yes</td>\n",
       "      <td>No</td>\n",
       "      <td>No</td>\n",
       "      <td>1</td>\n",
       "    </tr>\n",
       "    <tr>\n",
       "      <th>1265</th>\n",
       "      <td>1266</td>\n",
       "      <td>42</td>\n",
       "      <td>Male</td>\n",
       "      <td>United Kingdom</td>\n",
       "      <td>Not Applicable</td>\n",
       "      <td>No</td>\n",
       "      <td>Yes</td>\n",
       "      <td>No</td>\n",
       "      <td>1</td>\n",
       "    </tr>\n",
       "    <tr>\n",
       "      <th>1266</th>\n",
       "      <td>1267</td>\n",
       "      <td>30</td>\n",
       "      <td>Male</td>\n",
       "      <td>United States</td>\n",
       "      <td>Tennessee</td>\n",
       "      <td>No</td>\n",
       "      <td>No</td>\n",
       "      <td>No</td>\n",
       "      <td>0</td>\n",
       "    </tr>\n",
       "    <tr>\n",
       "      <th>1267</th>\n",
       "      <td>1268</td>\n",
       "      <td>37</td>\n",
       "      <td>Female</td>\n",
       "      <td>United States</td>\n",
       "      <td>Virginia</td>\n",
       "      <td>Yes</td>\n",
       "      <td>Yes</td>\n",
       "      <td>No</td>\n",
       "      <td>2</td>\n",
       "    </tr>\n",
       "    <tr>\n",
       "      <th>...</th>\n",
       "      <td>...</td>\n",
       "      <td>...</td>\n",
       "      <td>...</td>\n",
       "      <td>...</td>\n",
       "      <td>...</td>\n",
       "      <td>...</td>\n",
       "      <td>...</td>\n",
       "      <td>...</td>\n",
       "      <td>...</td>\n",
       "    </tr>\n",
       "    <tr>\n",
       "      <th>4211</th>\n",
       "      <td>4212</td>\n",
       "      <td>26</td>\n",
       "      <td>Female</td>\n",
       "      <td>Brazil</td>\n",
       "      <td>Not Applicable</td>\n",
       "      <td>No</td>\n",
       "      <td>No</td>\n",
       "      <td>No</td>\n",
       "      <td>0</td>\n",
       "    </tr>\n",
       "    <tr>\n",
       "      <th>4212</th>\n",
       "      <td>4213</td>\n",
       "      <td>31</td>\n",
       "      <td>Female</td>\n",
       "      <td>United States</td>\n",
       "      <td>California</td>\n",
       "      <td>No</td>\n",
       "      <td>No</td>\n",
       "      <td>No</td>\n",
       "      <td>0</td>\n",
       "    </tr>\n",
       "    <tr>\n",
       "      <th>4213</th>\n",
       "      <td>4214</td>\n",
       "      <td>27</td>\n",
       "      <td>Male</td>\n",
       "      <td>India</td>\n",
       "      <td>Not Applicable</td>\n",
       "      <td>No</td>\n",
       "      <td>I don't know</td>\n",
       "      <td>No</td>\n",
       "      <td>0</td>\n",
       "    </tr>\n",
       "    <tr>\n",
       "      <th>4216</th>\n",
       "      <td>4217</td>\n",
       "      <td>30</td>\n",
       "      <td>Female</td>\n",
       "      <td>India</td>\n",
       "      <td>Not Applicable</td>\n",
       "      <td>No</td>\n",
       "      <td>No</td>\n",
       "      <td>No</td>\n",
       "      <td>0</td>\n",
       "    </tr>\n",
       "    <tr>\n",
       "      <th>4217</th>\n",
       "      <td>4218</td>\n",
       "      <td>24</td>\n",
       "      <td>Female</td>\n",
       "      <td>United States</td>\n",
       "      <td>Oregon</td>\n",
       "      <td>Yes</td>\n",
       "      <td>Yes</td>\n",
       "      <td>No</td>\n",
       "      <td>2</td>\n",
       "    </tr>\n",
       "  </tbody>\n",
       "</table>\n",
       "<p>2191 rows × 9 columns</p>\n",
       "</div>"
      ],
      "text/plain": [
       "      UserID  Age  Gender         Country State/Territory Question 1  \\\n",
       "1261    1262   29    Male   United States        Illinois        Yes   \n",
       "1264    1265   43  Female   United States        Illinois        Yes   \n",
       "1265    1266   42    Male  United Kingdom  Not Applicable         No   \n",
       "1266    1267   30    Male   United States       Tennessee         No   \n",
       "1267    1268   37  Female   United States        Virginia        Yes   \n",
       "...      ...  ...     ...             ...             ...        ...   \n",
       "4211    4212   26  Female          Brazil  Not Applicable         No   \n",
       "4212    4213   31  Female   United States      California         No   \n",
       "4213    4214   27    Male           India  Not Applicable         No   \n",
       "4216    4217   30  Female           India  Not Applicable         No   \n",
       "4217    4218   24  Female   United States          Oregon        Yes   \n",
       "\n",
       "        Question 2 Question 3  Yes Responses  \n",
       "1261           Yes        Yes              3  \n",
       "1264            No         No              1  \n",
       "1265           Yes         No              1  \n",
       "1266            No         No              0  \n",
       "1267           Yes         No              2  \n",
       "...            ...        ...            ...  \n",
       "4211            No         No              0  \n",
       "4212            No         No              0  \n",
       "4213  I don't know         No              0  \n",
       "4216            No         No              0  \n",
       "4217           Yes         No              2  \n",
       "\n",
       "[2191 rows x 9 columns]"
      ]
     },
     "execution_count": 37,
     "metadata": {},
     "output_type": "execute_result"
    }
   ],
   "source": [
    "Survey_Data[\"Yes Responses\"] = Survey_Data.apply(lambda x: (x == 'Yes').sum(), axis=1)\n",
    "\n",
    "\n",
    "Survey_Data"
   ]
  },
  {
   "attachments": {},
   "cell_type": "markdown",
   "metadata": {},
   "source": [
    "This is just a small dataframe showing how many respondents fell into each group. The index is from 0 to 3 which is how many questions each respondent answered yes to."
   ]
  },
  {
   "cell_type": "code",
   "execution_count": 48,
   "metadata": {},
   "outputs": [
    {
     "data": {
      "text/html": [
       "<div>\n",
       "<style scoped>\n",
       "    .dataframe tbody tr th:only-of-type {\n",
       "        vertical-align: middle;\n",
       "    }\n",
       "\n",
       "    .dataframe tbody tr th {\n",
       "        vertical-align: top;\n",
       "    }\n",
       "\n",
       "    .dataframe thead th {\n",
       "        text-align: right;\n",
       "    }\n",
       "</style>\n",
       "<table border=\"1\" class=\"dataframe\">\n",
       "  <thead>\n",
       "    <tr style=\"text-align: right;\">\n",
       "      <th></th>\n",
       "      <th>Yes Responses</th>\n",
       "    </tr>\n",
       "  </thead>\n",
       "  <tbody>\n",
       "    <tr>\n",
       "      <th>0</th>\n",
       "      <td>980</td>\n",
       "    </tr>\n",
       "    <tr>\n",
       "      <th>1</th>\n",
       "      <td>606</td>\n",
       "    </tr>\n",
       "    <tr>\n",
       "      <th>2</th>\n",
       "      <td>332</td>\n",
       "    </tr>\n",
       "    <tr>\n",
       "      <th>3</th>\n",
       "      <td>273</td>\n",
       "    </tr>\n",
       "  </tbody>\n",
       "</table>\n",
       "</div>"
      ],
      "text/plain": [
       "   Yes Responses\n",
       "0            980\n",
       "1            606\n",
       "2            332\n",
       "3            273"
      ]
     },
     "execution_count": 48,
     "metadata": {},
     "output_type": "execute_result"
    }
   ],
   "source": [
    "yes = Survey_Data[\"Yes Responses\"].value_counts()\n",
    "\n",
    "\n",
    "Responses = pd.DataFrame({\n",
    "                \"Yes Responses\" : yes\n",
    "})\n",
    "\n",
    "\n",
    "\n",
    "\n",
    "Responses\n",
    "\n"
   ]
  },
  {
   "attachments": {},
   "cell_type": "markdown",
   "metadata": {},
   "source": [
    "These are percentage calulations for each group. Yo ucan see that 45% of people did answer yes to any of the questions, 27.5% of people only answered yes to 1 out of 3 questions, 15% of people answered yes to 2 out of 3 questions and 12.5% answered yes to all three questions"
   ]
  },
  {
   "cell_type": "code",
   "execution_count": 40,
   "metadata": {},
   "outputs": [
    {
     "data": {
      "text/plain": [
       "2191"
      ]
     },
     "execution_count": 40,
     "metadata": {},
     "output_type": "execute_result"
    }
   ],
   "source": [
    "total_respondents = Survey_Data['UserID'].count()\n",
    "\n",
    "total_respondents"
   ]
  },
  {
   "cell_type": "code",
   "execution_count": 42,
   "metadata": {},
   "outputs": [
    {
     "data": {
      "text/plain": [
       "44.73"
      ]
     },
     "execution_count": 42,
     "metadata": {},
     "output_type": "execute_result"
    }
   ],
   "source": [
    "pct_0_questions = round((yes[0] / total_respondents) * 100,2)\n",
    "\n",
    "pct_0_questions"
   ]
  },
  {
   "cell_type": "code",
   "execution_count": 43,
   "metadata": {},
   "outputs": [
    {
     "data": {
      "text/plain": [
       "27.66"
      ]
     },
     "execution_count": 43,
     "metadata": {},
     "output_type": "execute_result"
    }
   ],
   "source": [
    "pct_1_questions = round((yes[1] / total_respondents) * 100,2)\n",
    "\n",
    "pct_1_questions"
   ]
  },
  {
   "cell_type": "code",
   "execution_count": 44,
   "metadata": {},
   "outputs": [
    {
     "data": {
      "text/plain": [
       "15.15"
      ]
     },
     "execution_count": 44,
     "metadata": {},
     "output_type": "execute_result"
    }
   ],
   "source": [
    "pct_2_questions = round((yes[2] / total_respondents) * 100,2)\n",
    "\n",
    "pct_2_questions"
   ]
  },
  {
   "cell_type": "code",
   "execution_count": 45,
   "metadata": {},
   "outputs": [
    {
     "data": {
      "text/plain": [
       "12.46"
      ]
     },
     "execution_count": 45,
     "metadata": {},
     "output_type": "execute_result"
    }
   ],
   "source": [
    "pct_3_questions = round((yes[3] / total_respondents) * 100,2)\n",
    "\n",
    "pct_3_questions"
   ]
  },
  {
   "cell_type": "code",
   "execution_count": 47,
   "metadata": {},
   "outputs": [
    {
     "data": {
      "text/plain": [
       "<AxesSubplot:title={'center':'How Many Questions Each Respondent Answered Yes To'}, xlabel='Number of Questions', ylabel='Number of Respondents'>"
      ]
     },
     "execution_count": 47,
     "metadata": {},
     "output_type": "execute_result"
    },
    {
     "data": {
      "image/png": "[encoded data removed]",
      "text/plain": [
       "<Figure size 432x288 with 1 Axes>"
      ]
     },
     "metadata": {
      "needs_background": "light"
     },
     "output_type": "display_data"
    }
   ],
   "source": [
    "(Responses\n",
    "    .plot(\n",
    "    kind='bar',\n",
    "    xlabel= 'Number of Questions',\n",
    "    ylabel='Number of Respondents',\n",
    "    color=['mediumpurple'],\n",
    "    title='How Many Questions Each Respondent Answered Yes To',\n",
    "    rot=0,\n",
    "    edgecolor='black',\n",
    "    legend=False\n",
    "    ))\n",
    "\n",
    "\n",
    "\n",
    "  \n"
   ]
  },
  {
   "attachments": {},
   "cell_type": "markdown",
   "metadata": {},
   "source": [
    "The thought process here is that if a respondent answers yes to all three questions then their company is doing a great job and if a respondent does not answer yes to any questions then their employer is doing a poor job of addressing their employee's mental health needs. As you can see, most people either answered yes to one question  out of three (27.5%) or none of the questions (45%). Since that consists of almost three quarters of respondents, we can conclude that employers are not doing enough to address their employee's mental health needs. \n",
    "\n"
   ]
  },
  {
   "cell_type": "code",
   "execution_count": 10,
   "metadata": {},
   "outputs": [
    {
     "data": {
      "text/html": [
       "<div>\n",
       "<style scoped>\n",
       "    .dataframe tbody tr th:only-of-type {\n",
       "        vertical-align: middle;\n",
       "    }\n",
       "\n",
       "    .dataframe tbody tr th {\n",
       "        vertical-align: top;\n",
       "    }\n",
       "\n",
       "    .dataframe thead th {\n",
       "        text-align: right;\n",
       "    }\n",
       "</style>\n",
       "<table border=\"1\" class=\"dataframe\">\n",
       "  <thead>\n",
       "    <tr style=\"text-align: right;\">\n",
       "      <th></th>\n",
       "      <th>Question 1</th>\n",
       "      <th>Question 2</th>\n",
       "      <th>Question 3</th>\n",
       "    </tr>\n",
       "  </thead>\n",
       "  <tbody>\n",
       "    <tr>\n",
       "      <th>Yes</th>\n",
       "      <td>869</td>\n",
       "      <td>668</td>\n",
       "      <td>552</td>\n",
       "    </tr>\n",
       "    <tr>\n",
       "      <th>No</th>\n",
       "      <td>1322</td>\n",
       "      <td>899</td>\n",
       "      <td>1426</td>\n",
       "    </tr>\n",
       "    <tr>\n",
       "      <th>I don't know</th>\n",
       "      <td>0</td>\n",
       "      <td>624</td>\n",
       "      <td>213</td>\n",
       "    </tr>\n",
       "  </tbody>\n",
       "</table>\n",
       "</div>"
      ],
      "text/plain": [
       "              Question 1  Question 2  Question 3\n",
       "Yes                  869         668         552\n",
       "No                  1322         899        1426\n",
       "I don't know           0         624         213"
      ]
     },
     "execution_count": 10,
     "metadata": {},
     "output_type": "execute_result"
    }
   ],
   "source": [
    "question_1= Survey_Data['Question 1'].value_counts()\n",
    "question_2 = Survey_Data['Question 2'].value_counts()\n",
    "question_3 = Survey_Data['Question 3'].value_counts()\n",
    "\n",
    "questions_df = pd.DataFrame({\n",
    "    'Question 1': question_1,\n",
    "    'Question 2': question_2,\n",
    "    'Question 3': question_3\n",
    "})\n",
    "\n",
    "questions_df['Question 1'] = questions_df['Question 1'].fillna(value=0 ).astype('int')\n",
    "\n",
    "questions_df.sort_index(ascending=False)"
   ]
  },
  {
   "cell_type": "code",
   "execution_count": 11,
   "metadata": {},
   "outputs": [
    {
     "data": {
      "text/plain": [
       "<AxesSubplot:title={'center':'Do you know the options for mental health care available under your employer-provided health coverage?'}, ylabel='Number of Responses'>"
      ]
     },
     "execution_count": 11,
     "metadata": {},
     "output_type": "execute_result"
    },
    {
     "data": {
      "image/png": "[encoded data removed]",
      "text/plain": [
       "<Figure size 432x288 with 1 Axes>"
      ]
     },
     "metadata": {
      "needs_background": "light"
     },
     "output_type": "display_data"
    }
   ],
   "source": [
    "(question_1\n",
    "        .sort_index(ascending=False)\n",
    "        .plot(\n",
    "            kind='bar' , \n",
    "            title='Do you know the options for mental health care available under your employer-provided health coverage?' ,\n",
    "            rot=0,\n",
    "            color=\"mediumpurple\",\n",
    "            edgecolor='black',\n",
    "            ylabel='Number of Responses'))"
   ]
  },
  {
   "attachments": {},
   "cell_type": "markdown",
   "metadata": {},
   "source": [
    "This graph shows that there are more respondents that do not know their options from their healthcare plan than not. Companies can be doing more to tell their employees what benefits they have or atleast remind them to atleast look at what mental healthcare optiosn are available  to them. Granted employees should know or atleast want to look into all of the benefits that they have under their healthcare plan. Something that could be affecting these responses is whether someone has or think they have a mental issue. They would be more inclined to find out what mental benefits they have under their health plan where as people who do not have mental issues may not be looking. It could be interesting to explore this more separating the respondents by whether they have a mental diagnosis or not."
   ]
  },
  {
   "cell_type": "code",
   "execution_count": 12,
   "metadata": {},
   "outputs": [
    {
     "data": {
      "text/plain": [
       "<AxesSubplot:title={'center':'Does your employer offer resources to learn more about mental health disorders and options for seeking help?'}, ylabel='Number of Responses'>"
      ]
     },
     "execution_count": 12,
     "metadata": {},
     "output_type": "execute_result"
    },
    {
     "data": {
      "image/png": "[encoded data removed]",
      "text/plain": [
       "<Figure size 432x288 with 1 Axes>"
      ]
     },
     "metadata": {
      "needs_background": "light"
     },
     "output_type": "display_data"
    }
   ],
   "source": [
    "(question_2\n",
    "        .sort_index(ascending=False)\n",
    "        .plot(\n",
    "            kind='bar' , \n",
    "            title='Does your employer offer resources to learn more about mental health disorders and options for seeking help?' ,\n",
    "            rot=0,\n",
    "            facecolor=\"mediumpurple\",\n",
    "            edgecolor='black',\n",
    "            ylabel='Number of Responses'))"
   ]
  },
  {
   "attachments": {},
   "cell_type": "markdown",
   "metadata": {},
   "source": [
    "Again, the same trend shows that more people answered no than yes although it is much closer (only a gap of 200 to 300). This graph does show two causes for concern. First, there are tech companies that are not offering resources to learn about mental health or options for seeking help. Second, a lot of respondents answered 'I don't know'. If companies are providing these resources then it is possible they are not doing a good enough job communicating with their employees about them. It could be smart to break this out by comnpany size. Larger companies may have more resources available to their employees where as small and medium sized companies may not provide as many resources to their employees"
   ]
  },
  {
   "cell_type": "code",
   "execution_count": 13,
   "metadata": {},
   "outputs": [
    {
     "data": {
      "text/plain": [
       "<AxesSubplot:title={'center':'Has your employer ever formally discussed mental health?'}, ylabel='Number of Responses'>"
      ]
     },
     "execution_count": 13,
     "metadata": {},
     "output_type": "execute_result"
    },
    {
     "data": {
      "image/png": "[encoded data removed]",
      "text/plain": [
       "<Figure size 432x288 with 1 Axes>"
      ]
     },
     "metadata": {
      "needs_background": "light"
     },
     "output_type": "display_data"
    }
   ],
   "source": [
    "(question_3\n",
    "        .sort_index(ascending=False)\n",
    "        .plot(\n",
    "            kind='bar' , \n",
    "            title='Has your employer ever formally discussed mental health?' ,\n",
    "            rot=0,\n",
    "            facecolor=\"mediumpurple\",\n",
    "            edgecolor='black',\n",
    "            ylabel='Number of Responses'))"
   ]
  },
  {
   "attachments": {},
   "cell_type": "markdown",
   "metadata": {},
   "source": [
    "This graph shows that employers are overwhelmingly failing at communicating with their employees about mental health. Combining this insight with the insights above makes it clear employers are not doing enough to assist their employees with their mental health needs. It seems like they are several companies that do not have resources or programs to help their employees to begin with. The biggest issue seems to be though that there is a lack of communication on the topic. Companies need to either open up or vastly improve dialogue on the subject."
   ]
  },
  {
   "attachments": {},
   "cell_type": "markdown",
   "metadata": {},
   "source": [
    "### Conclusion"
   ]
  },
  {
   "attachments": {},
   "cell_type": "markdown",
   "metadata": {},
   "source": [
    "The key insights we can take away from this is that employers are not doing enough to address their employee's needs. It was definitely surprising to see that a lot of companies are not offering resources to learn about  mental issues and options to deal with it. I would think that that would be a mainstay in most companies in the year 2022. I think it is quite evident that there is a break down in communication between employer and employee when it comes to mental health and that is something that employers can work to improve upon.\n",
    "\n",
    "I think we can further explore this question by looking at the question based on company size. I think people at a smaller company could have a different experience than someone working at a large company. Also, we could separate the data bewtween people who have a medical diagnosis and those who don't. People who do have anedical diagnosis would most likely be looking into any resources their company has or any benefits that are provided by their health plan.\n",
    "\n",
    "Finally, this dataset is one sample. We could give the same survey to a different 4,000 people and get different results so we can say that this by no means comprehensive of the entire issue. "
   ]
  },
  {
   "cell_type": "markdown",
   "metadata": {},
   "source": []
  }
 ],
 "metadata": {
  "kernelspec": {
   "display_name": "Python 3",
   "language": "python",
   "name": "python3"
  },
  "language_info": {
   "codemirror_mode": {
    "name": "ipython",
    "version": 3
   },
   "file_extension": ".py",
   "mimetype": "text/x-python",
   "name": "python",
   "nbconvert_exporter": "python",
   "pygments_lexer": "ipython3",
   "version": "3.8.5"
  },
  "orig_nbformat": 4,
  "vscode": {
   "interpreter": {
    "hash": "58791a48c0527c1237af62f454c34ab101de3ca1b7c2175a1e9c8fbae10d0d82"
   }
  }
 },
 "nbformat": 4,
 "nbformat_minor": 2
}
