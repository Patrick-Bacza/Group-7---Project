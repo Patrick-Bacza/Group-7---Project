{
 "cells": [
  {
   "cell_type": "code",
   "execution_count": 2,
   "metadata": {},
   "outputs": [],
   "source": [
    "import pandas as pd\n",
    "import numpy as np\n",
    "import matplotlib.pyplot as plt\n",
    "import scipy.stats as stats"
   ]
  },
  {
   "cell_type": "code",
   "execution_count": 3,
   "metadata": {},
   "outputs": [],
   "source": [
    "questions = pd.read_csv(\"Data/questions.csv\")\n",
    "answers = pd.read_csv(\"Data/answers.csv\")\n",
    "survey_year = pd.read_csv(\"Data/survey.csv\")\n"
   ]
  },
  {
   "cell_type": "code",
   "execution_count": 4,
   "metadata": {},
   "outputs": [
    {
     "data": {
      "text/html": [
       "<div>\n",
       "<style scoped>\n",
       "    .dataframe tbody tr th:only-of-type {\n",
       "        vertical-align: middle;\n",
       "    }\n",
       "\n",
       "    .dataframe tbody tr th {\n",
       "        vertical-align: top;\n",
       "    }\n",
       "\n",
       "    .dataframe thead th {\n",
       "        text-align: right;\n",
       "    }\n",
       "</style>\n",
       "<table border=\"1\" class=\"dataframe\">\n",
       "  <thead>\n",
       "    <tr style=\"text-align: right;\">\n",
       "      <th></th>\n",
       "      <th>Unnamed: 0_x</th>\n",
       "      <th>Questions</th>\n",
       "      <th>questionid</th>\n",
       "      <th>Unnamed: 0_y</th>\n",
       "      <th>Answers</th>\n",
       "      <th>Year</th>\n",
       "      <th>UserID</th>\n",
       "      <th>QuestionID</th>\n",
       "    </tr>\n",
       "  </thead>\n",
       "  <tbody>\n",
       "    <tr>\n",
       "      <th>0</th>\n",
       "      <td>0</td>\n",
       "      <td>What is your age?</td>\n",
       "      <td>1</td>\n",
       "      <td>0</td>\n",
       "      <td>37</td>\n",
       "      <td>2014</td>\n",
       "      <td>1</td>\n",
       "      <td>1</td>\n",
       "    </tr>\n",
       "    <tr>\n",
       "      <th>1</th>\n",
       "      <td>0</td>\n",
       "      <td>What is your age?</td>\n",
       "      <td>1</td>\n",
       "      <td>1</td>\n",
       "      <td>44</td>\n",
       "      <td>2014</td>\n",
       "      <td>2</td>\n",
       "      <td>1</td>\n",
       "    </tr>\n",
       "    <tr>\n",
       "      <th>2</th>\n",
       "      <td>0</td>\n",
       "      <td>What is your age?</td>\n",
       "      <td>1</td>\n",
       "      <td>2</td>\n",
       "      <td>32</td>\n",
       "      <td>2014</td>\n",
       "      <td>3</td>\n",
       "      <td>1</td>\n",
       "    </tr>\n",
       "    <tr>\n",
       "      <th>3</th>\n",
       "      <td>0</td>\n",
       "      <td>What is your age?</td>\n",
       "      <td>1</td>\n",
       "      <td>3</td>\n",
       "      <td>31</td>\n",
       "      <td>2014</td>\n",
       "      <td>4</td>\n",
       "      <td>1</td>\n",
       "    </tr>\n",
       "    <tr>\n",
       "      <th>4</th>\n",
       "      <td>0</td>\n",
       "      <td>What is your age?</td>\n",
       "      <td>1</td>\n",
       "      <td>4</td>\n",
       "      <td>31</td>\n",
       "      <td>2014</td>\n",
       "      <td>5</td>\n",
       "      <td>1</td>\n",
       "    </tr>\n",
       "    <tr>\n",
       "      <th>...</th>\n",
       "      <td>...</td>\n",
       "      <td>...</td>\n",
       "      <td>...</td>\n",
       "      <td>...</td>\n",
       "      <td>...</td>\n",
       "      <td>...</td>\n",
       "      <td>...</td>\n",
       "      <td>...</td>\n",
       "    </tr>\n",
       "    <tr>\n",
       "      <th>200540</th>\n",
       "      <td>79</td>\n",
       "      <td>Do you work remotely (outside of an office) at...</td>\n",
       "      <td>93</td>\n",
       "      <td>20155</td>\n",
       "      <td>Yes</td>\n",
       "      <td>2014</td>\n",
       "      <td>1256</td>\n",
       "      <td>93</td>\n",
       "    </tr>\n",
       "    <tr>\n",
       "      <th>200541</th>\n",
       "      <td>79</td>\n",
       "      <td>Do you work remotely (outside of an office) at...</td>\n",
       "      <td>93</td>\n",
       "      <td>20156</td>\n",
       "      <td>No</td>\n",
       "      <td>2014</td>\n",
       "      <td>1257</td>\n",
       "      <td>93</td>\n",
       "    </tr>\n",
       "    <tr>\n",
       "      <th>200542</th>\n",
       "      <td>79</td>\n",
       "      <td>Do you work remotely (outside of an office) at...</td>\n",
       "      <td>93</td>\n",
       "      <td>20157</td>\n",
       "      <td>Yes</td>\n",
       "      <td>2014</td>\n",
       "      <td>1258</td>\n",
       "      <td>93</td>\n",
       "    </tr>\n",
       "    <tr>\n",
       "      <th>200543</th>\n",
       "      <td>79</td>\n",
       "      <td>Do you work remotely (outside of an office) at...</td>\n",
       "      <td>93</td>\n",
       "      <td>20158</td>\n",
       "      <td>No</td>\n",
       "      <td>2014</td>\n",
       "      <td>1259</td>\n",
       "      <td>93</td>\n",
       "    </tr>\n",
       "    <tr>\n",
       "      <th>200544</th>\n",
       "      <td>79</td>\n",
       "      <td>Do you work remotely (outside of an office) at...</td>\n",
       "      <td>93</td>\n",
       "      <td>20159</td>\n",
       "      <td>No</td>\n",
       "      <td>2014</td>\n",
       "      <td>1260</td>\n",
       "      <td>93</td>\n",
       "    </tr>\n",
       "  </tbody>\n",
       "</table>\n",
       "<p>48534 rows × 8 columns</p>\n",
       "</div>"
      ],
      "text/plain": [
       "        Unnamed: 0_x                                          Questions  \\\n",
       "0                  0                                  What is your age?   \n",
       "1                  0                                  What is your age?   \n",
       "2                  0                                  What is your age?   \n",
       "3                  0                                  What is your age?   \n",
       "4                  0                                  What is your age?   \n",
       "...              ...                                                ...   \n",
       "200540            79  Do you work remotely (outside of an office) at...   \n",
       "200541            79  Do you work remotely (outside of an office) at...   \n",
       "200542            79  Do you work remotely (outside of an office) at...   \n",
       "200543            79  Do you work remotely (outside of an office) at...   \n",
       "200544            79  Do you work remotely (outside of an office) at...   \n",
       "\n",
       "        questionid  Unnamed: 0_y Answers  Year  UserID  QuestionID  \n",
       "0                1             0      37  2014       1           1  \n",
       "1                1             1      44  2014       2           1  \n",
       "2                1             2      32  2014       3           1  \n",
       "3                1             3      31  2014       4           1  \n",
       "4                1             4      31  2014       5           1  \n",
       "...            ...           ...     ...   ...     ...         ...  \n",
       "200540          93         20155     Yes  2014    1256          93  \n",
       "200541          93         20156      No  2014    1257          93  \n",
       "200542          93         20157     Yes  2014    1258          93  \n",
       "200543          93         20158      No  2014    1259          93  \n",
       "200544          93         20159      No  2014    1260          93  \n",
       "\n",
       "[48534 rows x 8 columns]"
      ]
     },
     "execution_count": 4,
     "metadata": {},
     "output_type": "execute_result"
    }
   ],
   "source": [
    "# Merge both the csv on question id\n",
    "survey_data = pd.merge(questions, answers, left_on=\"questionid\",right_on=\"QuestionID\")\n",
    "survey_data.head()\n",
    "# filter it for questions we need to keep. id 1 , 2 ,3 , 4 ,5 ,14 , 15 , 16 , 32\n",
    "# create list with question ids to keep\n",
    "question_ids = [1 , 2 , 3 , 4 , 5  , 14 , 15 , 16, 50 , 51 , 93, 8 , 9,34] \n",
    "\n",
    "filtered_df = survey_data[survey_data['QuestionID'].isin(question_ids)]\n",
    "\n",
    "filtered_df = filtered_df.rename(columns={'questiontext' : 'Questions' , 'AnswerText' : 'Answers' , 'SurveyID' : 'Year'})\n",
    "\n",
    "filtered_df"
   ]
  },
  {
   "cell_type": "code",
   "execution_count": 5,
   "metadata": {},
   "outputs": [
    {
     "data": {
      "text/html": [
       "<div>\n",
       "<style scoped>\n",
       "    .dataframe tbody tr th:only-of-type {\n",
       "        vertical-align: middle;\n",
       "    }\n",
       "\n",
       "    .dataframe tbody tr th {\n",
       "        vertical-align: top;\n",
       "    }\n",
       "\n",
       "    .dataframe thead th {\n",
       "        text-align: right;\n",
       "    }\n",
       "</style>\n",
       "<table border=\"1\" class=\"dataframe\">\n",
       "  <thead>\n",
       "    <tr style=\"text-align: right;\">\n",
       "      <th>Questions</th>\n",
       "      <th>Age</th>\n",
       "      <th>Gender</th>\n",
       "      <th>Country</th>\n",
       "      <th>State/Territory</th>\n",
       "      <th>self-employed?</th>\n",
       "      <th>Do you know the options for mental health care available under your employer-provided health coverage?</th>\n",
       "      <th>Does your employer offer resources to learn more about mental health disorders and options for seeking help?</th>\n",
       "      <th>Has your employer ever formally discussed mental health (for example, as part of a wellness campaign or other official communication)?</th>\n",
       "      <th>Remote_Work</th>\n",
       "      <th>Total Employees</th>\n",
       "      <th>Tech/NonTech</th>\n",
       "      <th>Total Cases</th>\n",
       "    </tr>\n",
       "    <tr>\n",
       "      <th>UserID</th>\n",
       "      <th></th>\n",
       "      <th></th>\n",
       "      <th></th>\n",
       "      <th></th>\n",
       "      <th></th>\n",
       "      <th></th>\n",
       "      <th></th>\n",
       "      <th></th>\n",
       "      <th></th>\n",
       "      <th></th>\n",
       "      <th></th>\n",
       "      <th></th>\n",
       "    </tr>\n",
       "  </thead>\n",
       "  <tbody>\n",
       "    <tr>\n",
       "      <th>1</th>\n",
       "      <td>37</td>\n",
       "      <td>Female</td>\n",
       "      <td>United States</td>\n",
       "      <td>Illinois</td>\n",
       "      <td>-1</td>\n",
       "      <td>NaN</td>\n",
       "      <td>NaN</td>\n",
       "      <td>NaN</td>\n",
       "      <td>No</td>\n",
       "      <td>6-25</td>\n",
       "      <td>1</td>\n",
       "      <td>NaN</td>\n",
       "    </tr>\n",
       "    <tr>\n",
       "      <th>2</th>\n",
       "      <td>44</td>\n",
       "      <td>Male</td>\n",
       "      <td>United States</td>\n",
       "      <td>Indiana</td>\n",
       "      <td>-1</td>\n",
       "      <td>NaN</td>\n",
       "      <td>NaN</td>\n",
       "      <td>NaN</td>\n",
       "      <td>No</td>\n",
       "      <td>More than 1000</td>\n",
       "      <td>0</td>\n",
       "      <td>NaN</td>\n",
       "    </tr>\n",
       "    <tr>\n",
       "      <th>3</th>\n",
       "      <td>32</td>\n",
       "      <td>Male</td>\n",
       "      <td>Canada</td>\n",
       "      <td>-1</td>\n",
       "      <td>-1</td>\n",
       "      <td>NaN</td>\n",
       "      <td>NaN</td>\n",
       "      <td>NaN</td>\n",
       "      <td>No</td>\n",
       "      <td>6-25</td>\n",
       "      <td>1</td>\n",
       "      <td>NaN</td>\n",
       "    </tr>\n",
       "    <tr>\n",
       "      <th>4</th>\n",
       "      <td>31</td>\n",
       "      <td>Male</td>\n",
       "      <td>United Kingdom</td>\n",
       "      <td>-1</td>\n",
       "      <td>-1</td>\n",
       "      <td>NaN</td>\n",
       "      <td>NaN</td>\n",
       "      <td>NaN</td>\n",
       "      <td>No</td>\n",
       "      <td>26-100</td>\n",
       "      <td>1</td>\n",
       "      <td>NaN</td>\n",
       "    </tr>\n",
       "    <tr>\n",
       "      <th>5</th>\n",
       "      <td>31</td>\n",
       "      <td>Male</td>\n",
       "      <td>United States</td>\n",
       "      <td>Texas</td>\n",
       "      <td>-1</td>\n",
       "      <td>NaN</td>\n",
       "      <td>NaN</td>\n",
       "      <td>NaN</td>\n",
       "      <td>Yes</td>\n",
       "      <td>100-500</td>\n",
       "      <td>1</td>\n",
       "      <td>NaN</td>\n",
       "    </tr>\n",
       "    <tr>\n",
       "      <th>...</th>\n",
       "      <td>...</td>\n",
       "      <td>...</td>\n",
       "      <td>...</td>\n",
       "      <td>...</td>\n",
       "      <td>...</td>\n",
       "      <td>...</td>\n",
       "      <td>...</td>\n",
       "      <td>...</td>\n",
       "      <td>...</td>\n",
       "      <td>...</td>\n",
       "      <td>...</td>\n",
       "      <td>...</td>\n",
       "    </tr>\n",
       "    <tr>\n",
       "      <th>4214</th>\n",
       "      <td>27</td>\n",
       "      <td>male</td>\n",
       "      <td>India</td>\n",
       "      <td>-1</td>\n",
       "      <td>0</td>\n",
       "      <td>No</td>\n",
       "      <td>I don't know</td>\n",
       "      <td>No</td>\n",
       "      <td>NaN</td>\n",
       "      <td>More than 1000</td>\n",
       "      <td>0</td>\n",
       "      <td>-1</td>\n",
       "    </tr>\n",
       "    <tr>\n",
       "      <th>4215</th>\n",
       "      <td>48</td>\n",
       "      <td>Male</td>\n",
       "      <td>United States of America</td>\n",
       "      <td>Louisiana</td>\n",
       "      <td>1</td>\n",
       "      <td>-1</td>\n",
       "      <td>-1</td>\n",
       "      <td>-1</td>\n",
       "      <td>NaN</td>\n",
       "      <td>-1</td>\n",
       "      <td>-1</td>\n",
       "      <td>-1</td>\n",
       "    </tr>\n",
       "    <tr>\n",
       "      <th>4216</th>\n",
       "      <td>50</td>\n",
       "      <td>Male</td>\n",
       "      <td>India</td>\n",
       "      <td>-1</td>\n",
       "      <td>1</td>\n",
       "      <td>-1</td>\n",
       "      <td>-1</td>\n",
       "      <td>-1</td>\n",
       "      <td>NaN</td>\n",
       "      <td>-1</td>\n",
       "      <td>-1</td>\n",
       "      <td>-1</td>\n",
       "    </tr>\n",
       "    <tr>\n",
       "      <th>4217</th>\n",
       "      <td>30</td>\n",
       "      <td>female</td>\n",
       "      <td>India</td>\n",
       "      <td>-1</td>\n",
       "      <td>0</td>\n",
       "      <td>No</td>\n",
       "      <td>No</td>\n",
       "      <td>No</td>\n",
       "      <td>NaN</td>\n",
       "      <td>More than 1000</td>\n",
       "      <td>1</td>\n",
       "      <td>-1</td>\n",
       "    </tr>\n",
       "    <tr>\n",
       "      <th>4218</th>\n",
       "      <td>24</td>\n",
       "      <td>Female</td>\n",
       "      <td>United States of America</td>\n",
       "      <td>Oregon</td>\n",
       "      <td>0</td>\n",
       "      <td>Yes</td>\n",
       "      <td>Yes</td>\n",
       "      <td>No</td>\n",
       "      <td>NaN</td>\n",
       "      <td>More than 1000</td>\n",
       "      <td>1</td>\n",
       "      <td>Yes</td>\n",
       "    </tr>\n",
       "  </tbody>\n",
       "</table>\n",
       "<p>4218 rows × 12 columns</p>\n",
       "</div>"
      ],
      "text/plain": [
       "Questions Age  Gender                   Country State/Territory  \\\n",
       "UserID                                                            \n",
       "1          37  Female             United States        Illinois   \n",
       "2          44    Male             United States         Indiana   \n",
       "3          32    Male                    Canada              -1   \n",
       "4          31    Male            United Kingdom              -1   \n",
       "5          31    Male             United States           Texas   \n",
       "...        ..     ...                       ...             ...   \n",
       "4214       27    male                     India              -1   \n",
       "4215       48    Male  United States of America       Louisiana   \n",
       "4216       50    Male                     India              -1   \n",
       "4217       30  female                     India              -1   \n",
       "4218       24  Female  United States of America          Oregon   \n",
       "\n",
       "Questions self-employed?  \\\n",
       "UserID                     \n",
       "1                     -1   \n",
       "2                     -1   \n",
       "3                     -1   \n",
       "4                     -1   \n",
       "5                     -1   \n",
       "...                  ...   \n",
       "4214                   0   \n",
       "4215                   1   \n",
       "4216                   1   \n",
       "4217                   0   \n",
       "4218                   0   \n",
       "\n",
       "Questions Do you know the options for mental health care available under your employer-provided health coverage?  \\\n",
       "UserID                                                                                                             \n",
       "1                                                        NaN                                                       \n",
       "2                                                        NaN                                                       \n",
       "3                                                        NaN                                                       \n",
       "4                                                        NaN                                                       \n",
       "5                                                        NaN                                                       \n",
       "...                                                      ...                                                       \n",
       "4214                                                      No                                                       \n",
       "4215                                                      -1                                                       \n",
       "4216                                                      -1                                                       \n",
       "4217                                                      No                                                       \n",
       "4218                                                     Yes                                                       \n",
       "\n",
       "Questions Does your employer offer resources to learn more about mental health disorders and options for seeking help?  \\\n",
       "UserID                                                                                                                   \n",
       "1                                                        NaN                                                             \n",
       "2                                                        NaN                                                             \n",
       "3                                                        NaN                                                             \n",
       "4                                                        NaN                                                             \n",
       "5                                                        NaN                                                             \n",
       "...                                                      ...                                                             \n",
       "4214                                            I don't know                                                             \n",
       "4215                                                      -1                                                             \n",
       "4216                                                      -1                                                             \n",
       "4217                                                      No                                                             \n",
       "4218                                                     Yes                                                             \n",
       "\n",
       "Questions Has your employer ever formally discussed mental health (for example, as part of a wellness campaign or other official communication)?  \\\n",
       "UserID                                                                                                                                             \n",
       "1                                                        NaN                                                                                       \n",
       "2                                                        NaN                                                                                       \n",
       "3                                                        NaN                                                                                       \n",
       "4                                                        NaN                                                                                       \n",
       "5                                                        NaN                                                                                       \n",
       "...                                                      ...                                                                                       \n",
       "4214                                                      No                                                                                       \n",
       "4215                                                      -1                                                                                       \n",
       "4216                                                      -1                                                                                       \n",
       "4217                                                      No                                                                                       \n",
       "4218                                                      No                                                                                       \n",
       "\n",
       "Questions Remote_Work Total Employees Tech/NonTech Total Cases  \n",
       "UserID                                                          \n",
       "1                  No            6-25            1         NaN  \n",
       "2                  No  More than 1000            0         NaN  \n",
       "3                  No            6-25            1         NaN  \n",
       "4                  No          26-100            1         NaN  \n",
       "5                 Yes         100-500            1         NaN  \n",
       "...               ...             ...          ...         ...  \n",
       "4214              NaN  More than 1000            0          -1  \n",
       "4215              NaN              -1           -1          -1  \n",
       "4216              NaN              -1           -1          -1  \n",
       "4217              NaN  More than 1000            1          -1  \n",
       "4218              NaN  More than 1000            1         Yes  \n",
       "\n",
       "[4218 rows x 12 columns]"
      ]
     },
     "execution_count": 5,
     "metadata": {},
     "output_type": "execute_result"
    }
   ],
   "source": [
    " # Pivoted dataframe to get questions as columns \n",
    "\n",
    "pivoted_df = filtered_df.pivot(index='UserID' , columns='Questions', values='Answers' )\n",
    "\n",
    "# reorder columns\n",
    "\n",
    "pivoted_df = pivoted_df[['What is your age?' ,'What is your gender?', 'What country do you live in?' , 'If you live in the United States, which state or territory do you live in?' ,'Are you self-employed?' ,'Do you know the options for mental health care available under your employer-provided health coverage?' , \n",
    "                         'Does your employer offer resources to learn more about mental health disorders and options for seeking help?','Has your employer ever formally discussed mental health (for example, as part of a wellness campaign or other official communication)?',\n",
    "                         'Do you work remotely (outside of an office) at least 50% of the time?','How many employees does your company or organization have?',\n",
    "                         'Is your employer primarily a tech company/organization?','Have you ever been diagnosed with a mental health disorder?']]\n",
    "\n",
    "# rename columns \n",
    "\n",
    "pivoted_02_df = pivoted_df.rename(columns={'What is your age?' : 'Age' , 'What is your gender?': 'Gender' , 'What country do you live in?':'Country' ,'If you live in the United States, which state or territory do you live in?': 'State/Territory',\n",
    "                                            'Are you self-employed?' : 'self-employed?','Do you work remotely (outside of an office) at least 50% of the time?': 'Remote_Work',\n",
    "                                            'How many employees does your company or organization have?':'Total Employees', 'Is your employer primarily a tech company/organization?':'Tech/NonTech', 'Have you ever been diagnosed with a mental health disorder?':'Total Cases'})\n",
    "\n",
    "\n",
    "pivoted_02_df\n",
    "\n",
    "\n"
   ]
  },
  {
   "attachments": {},
   "cell_type": "markdown",
   "metadata": {},
   "source": [
    "Null Hypothesis: Company Size has no significance on Mental Health study.\n",
    "\n",
    "Alternate Hypothesis: Company Size has significance on Mental Health study.\n"
   ]
  },
  {
   "cell_type": "code",
   "execution_count": 6,
   "metadata": {},
   "outputs": [
    {
     "data": {
      "text/html": [
       "<div>\n",
       "<style scoped>\n",
       "    .dataframe tbody tr th:only-of-type {\n",
       "        vertical-align: middle;\n",
       "    }\n",
       "\n",
       "    .dataframe tbody tr th {\n",
       "        vertical-align: top;\n",
       "    }\n",
       "\n",
       "    .dataframe thead th {\n",
       "        text-align: right;\n",
       "    }\n",
       "</style>\n",
       "<table border=\"1\" class=\"dataframe\">\n",
       "  <thead>\n",
       "    <tr style=\"text-align: right;\">\n",
       "      <th></th>\n",
       "      <th>observed</th>\n",
       "      <th>expected</th>\n",
       "    </tr>\n",
       "  </thead>\n",
       "  <tbody>\n",
       "    <tr>\n",
       "      <th>1</th>\n",
       "      <td>788</td>\n",
       "      <td>649</td>\n",
       "    </tr>\n",
       "    <tr>\n",
       "      <th>2</th>\n",
       "      <td>247</td>\n",
       "      <td>649</td>\n",
       "    </tr>\n",
       "    <tr>\n",
       "      <th>3</th>\n",
       "      <td>912</td>\n",
       "      <td>649</td>\n",
       "    </tr>\n",
       "  </tbody>\n",
       "</table>\n",
       "</div>"
      ],
      "text/plain": [
       "   observed  expected\n",
       "1       788       649\n",
       "2       247       649\n",
       "3       912       649"
      ]
     },
     "execution_count": 6,
     "metadata": {},
     "output_type": "execute_result"
    }
   ],
   "source": [
    "# Observed data \n",
    "observed = pd.Series([788,247,912], index=[\"1\", \"2\", \"3\"])\n",
    "\n",
    "# Create a data frame\n",
    "df1 = pd.DataFrame([observed]).T\n",
    "\n",
    "# Add a column whose default values are the expected values\n",
    "df1[1] = 649\n",
    "\n",
    "# Rename the columns\n",
    "df1.columns = [\"observed\", \"expected\"]\n",
    "\n",
    "# View the data frame\n",
    "df1"
   ]
  },
  {
   "cell_type": "code",
   "execution_count": 7,
   "metadata": {},
   "outputs": [
    {
     "data": {
      "text/plain": [
       "5.991464547107979"
      ]
     },
     "execution_count": 7,
     "metadata": {},
     "output_type": "execute_result"
    }
   ],
   "source": [
    "# With four rows, the degree of freedom is 3-1 = 2\n",
    "# With a p-value of 0.05, the confidence level is 1.00-0.05 = 0.95.\n",
    "critical_value = stats.chi2.ppf(q = 0.95, df = 2)\n",
    "critical_value"
   ]
  },
  {
   "cell_type": "code",
   "execution_count": 8,
   "metadata": {},
   "outputs": [
    {
     "data": {
      "text/plain": [
       "Power_divergenceResult(statistic=385.3528505392912, pvalue=2.0974504628682817e-84)"
      ]
     },
     "execution_count": 8,
     "metadata": {},
     "output_type": "execute_result"
    }
   ],
   "source": [
    "# Run the chi square test with stats.chisquare()\n",
    "stats.chisquare(df1['observed'], df1['expected'])"
   ]
  },
  {
   "attachments": {},
   "cell_type": "markdown",
   "metadata": {},
   "source": [
    "### Conclusion\n",
    "Since the chi-square value of 385.35 at a confidence level of 95% exceeds the critical value of 5.99, we conclude that the differences seen in the size of company are statistically significant."
   ]
  },
  {
   "attachments": {},
   "cell_type": "markdown",
   "metadata": {},
   "source": [
    "Analysis of Company Size on Mental Health Study :"
   ]
  },
  {
   "cell_type": "code",
   "execution_count": 9,
   "metadata": {},
   "outputs": [
    {
     "data": {
      "text/plain": [
       "count               4218\n",
       "unique                 7\n",
       "top       More than 1000\n",
       "freq                 912\n",
       "Name: Total Employees, dtype: object"
      ]
     },
     "execution_count": 9,
     "metadata": {},
     "output_type": "execute_result"
    }
   ],
   "source": [
    "pivoted_02_df[\"Total Employees\"].describe()\n"
   ]
  },
  {
   "cell_type": "code",
   "execution_count": 10,
   "metadata": {},
   "outputs": [
    {
     "data": {
      "text/plain": [
       "More than 1000    912\n",
       "26-100            824\n",
       "100-500           788\n",
       "6-25              689\n",
       "-1                504\n",
       "1-5               254\n",
       "500-1000          247\n",
       "Name: Total Employees, dtype: int64"
      ]
     },
     "execution_count": 10,
     "metadata": {},
     "output_type": "execute_result"
    }
   ],
   "source": [
    "pivoted_02_df[\"Total Employees\"].value_counts()"
   ]
  },
  {
   "cell_type": "code",
   "execution_count": 11,
   "metadata": {},
   "outputs": [
    {
     "data": {
      "text/plain": [
       "UserID\n",
       "1                 6-25\n",
       "2       More than 1000\n",
       "3                 6-25\n",
       "4               26-100\n",
       "5              100-500\n",
       "             ...      \n",
       "4214    More than 1000\n",
       "4215         dont know\n",
       "4216         dont know\n",
       "4217    More than 1000\n",
       "4218    More than 1000\n",
       "Name: Total Employees, Length: 4218, dtype: object"
      ]
     },
     "execution_count": 11,
     "metadata": {},
     "output_type": "execute_result"
    }
   ],
   "source": [
    "pivoted_02_df[\"Total Employees\"].replace('-1','dont know')"
   ]
  },
  {
   "cell_type": "code",
   "execution_count": 12,
   "metadata": {},
   "outputs": [
    {
     "data": {
      "text/plain": [
       "More than 1000    912\n",
       "26-100            824\n",
       "100-500           788\n",
       "6-25              689\n",
       "-1                504\n",
       "1-5               254\n",
       "500-1000          247\n",
       "Name: Total Employees, dtype: int64"
      ]
     },
     "execution_count": 12,
     "metadata": {},
     "output_type": "execute_result"
    }
   ],
   "source": [
    "new_size = pivoted_02_df[\"Total Employees\"].value_counts()\n",
    "new_size"
   ]
  },
  {
   "cell_type": "code",
   "execution_count": 13,
   "metadata": {},
   "outputs": [
    {
     "data": {
      "text/plain": [
       "UserID\n",
       "1                 6-25\n",
       "2       More than 1000\n",
       "3                 6-25\n",
       "4               26-100\n",
       "5              100-500\n",
       "             ...      \n",
       "4214    More than 1000\n",
       "4215                -1\n",
       "4216                -1\n",
       "4217    More than 1000\n",
       "4218    More than 1000\n",
       "Name: Total Employees, Length: 4218, dtype: object"
      ]
     },
     "execution_count": 13,
     "metadata": {},
     "output_type": "execute_result"
    }
   ],
   "source": [
    "pivoted_02_df[\"Total Employees\"].isnull().values.any()\n",
    "pivoted_02_df[\"Total Employees\"].dropna()"
   ]
  },
  {
   "cell_type": "code",
   "execution_count": 14,
   "metadata": {},
   "outputs": [],
   "source": [
    "\n",
    "Employees_count = [788,247,912]\n",
    "x_axis = np.arange(len(Employees_count))"
   ]
  },
  {
   "cell_type": "code",
   "execution_count": 15,
   "metadata": {},
   "outputs": [
    {
     "data": {
      "text/plain": [
       "Text(0, 0.5, 'Frequency of Mental Health (Total Employees)')"
      ]
     },
     "execution_count": 15,
     "metadata": {},
     "output_type": "execute_result"
    },
    {
     "data": {
      "image/png": "[encoded data removed]",
      "text/plain": [
       "<Figure size 640x480 with 1 Axes>"
      ]
     },
     "metadata": {},
     "output_type": "display_data"
    }
   ],
   "source": [
    "tick_locations = [value for value in x_axis]\n",
    "plt.xticks(tick_locations, [\"Small(100-500)\", \"Medium(500-1000)\",\"Large(>1000)\"])\n",
    "plt.xlim(-0.75, len(x_axis)-0.25)\n",
    "plt.ylim(0,1000)\n",
    "plt.bar(x_axis, Employees_count, color='r', alpha=0.5, align=\"center\")\n",
    "\n",
    "# Give our chart some labels and a title\n",
    "# Give our chart some labels and a tile\n",
    "plt.title(\"Company Size vs Frequency of Mental Health\")\n",
    "plt.xlabel(\"Company Size\")\n",
    "plt.ylabel(\"Frequency of Mental Health (Total Employees)\")\n"
   ]
  },
  {
   "attachments": {},
   "cell_type": "markdown",
   "metadata": {},
   "source": [
    "Large Companies have more mental health cases than Small and Medium"
   ]
  },
  {
   "cell_type": "code",
   "execution_count": 16,
   "metadata": {},
   "outputs": [
    {
     "data": {
      "text/plain": [
       "UserID\n",
       "1        No\n",
       "2        No\n",
       "3        No\n",
       "4        No\n",
       "5       Yes\n",
       "       ... \n",
       "1256    Yes\n",
       "1257     No\n",
       "1258    Yes\n",
       "1259     No\n",
       "1260     No\n",
       "Name: Remote_Work, Length: 1260, dtype: object"
      ]
     },
     "execution_count": 16,
     "metadata": {},
     "output_type": "execute_result"
    }
   ],
   "source": [
    "pivoted_02_df[\"Remote_Work\"].dropna()"
   ]
  },
  {
   "cell_type": "code",
   "execution_count": 17,
   "metadata": {},
   "outputs": [
    {
     "data": {
      "text/plain": [
       "No     884\n",
       "Yes    376\n",
       "Name: Remote_Work, dtype: int64"
      ]
     },
     "execution_count": 17,
     "metadata": {},
     "output_type": "execute_result"
    }
   ],
   "source": [
    "remote_work_df = pivoted_02_df[\"Remote_Work\"].value_counts()\n",
    "remote_work_df"
   ]
  },
  {
   "cell_type": "code",
   "execution_count": 18,
   "metadata": {},
   "outputs": [
    {
     "data": {
      "text/plain": [
       "Text(0.5, 1.0, 'Remote Work vs No Remote')"
      ]
     },
     "execution_count": 18,
     "metadata": {},
     "output_type": "execute_result"
    },
    {
     "data": {
      "image/png": "[encoded data removed]",
      "text/plain": [
       "<Figure size 640x480 with 1 Axes>"
      ]
     },
     "metadata": {},
     "output_type": "display_data"
    }
   ],
   "source": [
    "labels = [\"Yes\",\"No\"]\n",
    "sizes = [376, 884]\n",
    "colors = [\"lightcoral\", \"orange\"]\n",
    "\n",
    "plt.pie(sizes, labels=labels, colors=colors,\n",
    "        autopct=\"%1.1f%%\", shadow=True, startangle=140)\n",
    "plt.title(\"Remote Work vs No Remote\")"
   ]
  },
  {
   "attachments": {},
   "cell_type": "markdown",
   "metadata": {},
   "source": [
    "Number of Mental health problem is less for remote workers than from non remote workers(working in office)."
   ]
  },
  {
   "attachments": {},
   "cell_type": "markdown",
   "metadata": {},
   "source": [
    "Null Hypothesis: Job type has no statistical significance on Mental Health study.\n",
    "\n",
    "Alternate Hypothesis: Job type has statistical significance on Mental Health study."
   ]
  },
  {
   "cell_type": "code",
   "execution_count": 19,
   "metadata": {},
   "outputs": [
    {
     "data": {
      "text/plain": [
       "1     2888\n",
       "0      826\n",
       "-1     504\n",
       "Name: Tech/NonTech, dtype: int64"
      ]
     },
     "execution_count": 19,
     "metadata": {},
     "output_type": "execute_result"
    }
   ],
   "source": [
    "pivoted_02_df[\"Tech/NonTech\"].value_counts()"
   ]
  },
  {
   "cell_type": "code",
   "execution_count": 20,
   "metadata": {},
   "outputs": [
    {
     "data": {
      "text/html": [
       "<div>\n",
       "<style scoped>\n",
       "    .dataframe tbody tr th:only-of-type {\n",
       "        vertical-align: middle;\n",
       "    }\n",
       "\n",
       "    .dataframe tbody tr th {\n",
       "        vertical-align: top;\n",
       "    }\n",
       "\n",
       "    .dataframe thead th {\n",
       "        text-align: right;\n",
       "    }\n",
       "</style>\n",
       "<table border=\"1\" class=\"dataframe\">\n",
       "  <thead>\n",
       "    <tr style=\"text-align: right;\">\n",
       "      <th></th>\n",
       "      <th>observed</th>\n",
       "      <th>expected</th>\n",
       "    </tr>\n",
       "  </thead>\n",
       "  <tbody>\n",
       "    <tr>\n",
       "      <th>1</th>\n",
       "      <td>2888</td>\n",
       "      <td>1406</td>\n",
       "    </tr>\n",
       "    <tr>\n",
       "      <th>2</th>\n",
       "      <td>826</td>\n",
       "      <td>1406</td>\n",
       "    </tr>\n",
       "    <tr>\n",
       "      <th>3</th>\n",
       "      <td>504</td>\n",
       "      <td>1406</td>\n",
       "    </tr>\n",
       "  </tbody>\n",
       "</table>\n",
       "</div>"
      ],
      "text/plain": [
       "   observed  expected\n",
       "1      2888      1406\n",
       "2       826      1406\n",
       "3       504      1406"
      ]
     },
     "execution_count": 20,
     "metadata": {},
     "output_type": "execute_result"
    }
   ],
   "source": [
    "# Observed data in a (hypothetical) survey of 6000 people \n",
    "observed = pd.Series([2888,826,504], index=[\"1\", \"2\",\"3\"])\n",
    "\n",
    "# Create a data frame\n",
    "df2 = pd.DataFrame([observed]).T\n",
    "\n",
    "# Add a column whose default values are the expected values\n",
    "df2[1] = 1406\n",
    "\n",
    "# Rename the columns\n",
    "df2.columns = [\"observed\", \"expected\"]\n",
    "\n",
    "# View the data frame\n",
    "df2"
   ]
  },
  {
   "cell_type": "code",
   "execution_count": 21,
   "metadata": {},
   "outputs": [
    {
     "data": {
      "text/plain": [
       "5.991464547107979"
      ]
     },
     "execution_count": 21,
     "metadata": {},
     "output_type": "execute_result"
    }
   ],
   "source": [
    "# With four rows, the degree of freedom is 3-1 = 2\n",
    "# With a p-value of 0.05, the confidence level is 1.00-0.05 = 0.95.\n",
    "critical_value = stats.chi2.ppf(q = 0.95, df = 2)\n",
    "critical_value"
   ]
  },
  {
   "cell_type": "code",
   "execution_count": 22,
   "metadata": {},
   "outputs": [
    {
     "data": {
      "text/plain": [
       "Power_divergenceResult(statistic=2380.0341394025604, pvalue=0.0)"
      ]
     },
     "execution_count": 22,
     "metadata": {},
     "output_type": "execute_result"
    }
   ],
   "source": [
    "# Run the chi square test with stats.chisquare()\n",
    "stats.chisquare(df2['observed'], df2['expected'])"
   ]
  },
  {
   "attachments": {},
   "cell_type": "markdown",
   "metadata": {},
   "source": [
    "### Conclusion\n",
    "* Since the chi-square value of 2380.03 at a confidence level of 95% exceeds the critical value of 5.99, we conclude that the differences seen in the number of Tech/NonTech job type are statistically significant."
   ]
  },
  {
   "attachments": {},
   "cell_type": "markdown",
   "metadata": {},
   "source": [
    "Job Type and Mental Health analysis -"
   ]
  },
  {
   "cell_type": "code",
   "execution_count": 23,
   "metadata": {},
   "outputs": [
    {
     "data": {
      "text/plain": [
       "False"
      ]
     },
     "execution_count": 23,
     "metadata": {},
     "output_type": "execute_result"
    }
   ],
   "source": [
    "pivoted_02_df[\"Tech/NonTech\"].isnull().values.any()"
   ]
  },
  {
   "cell_type": "code",
   "execution_count": 24,
   "metadata": {},
   "outputs": [
    {
     "data": {
      "text/plain": [
       "UserID\n",
       "1        1\n",
       "2        0\n",
       "3        1\n",
       "4        1\n",
       "5        1\n",
       "        ..\n",
       "4214     0\n",
       "4215    -1\n",
       "4216    -1\n",
       "4217     1\n",
       "4218     1\n",
       "Name: Tech/NonTech, Length: 4218, dtype: object"
      ]
     },
     "execution_count": 24,
     "metadata": {},
     "output_type": "execute_result"
    }
   ],
   "source": [
    "pivoted_02_df[\"Tech/NonTech\"].dropna()"
   ]
  },
  {
   "cell_type": "code",
   "execution_count": 25,
   "metadata": {},
   "outputs": [
    {
     "data": {
      "text/plain": [
       "count     4218\n",
       "unique       3\n",
       "top          1\n",
       "freq      2888\n",
       "Name: Tech/NonTech, dtype: object"
      ]
     },
     "execution_count": 25,
     "metadata": {},
     "output_type": "execute_result"
    }
   ],
   "source": [
    "pivoted_02_df[\"Tech/NonTech\"].describe()"
   ]
  },
  {
   "cell_type": "code",
   "execution_count": 26,
   "metadata": {},
   "outputs": [
    {
     "data": {
      "text/plain": [
       "array(['1', '0', '-1'], dtype=object)"
      ]
     },
     "execution_count": 26,
     "metadata": {},
     "output_type": "execute_result"
    }
   ],
   "source": [
    "pivoted_02_df[\"Tech/NonTech\"].unique()"
   ]
  },
  {
   "cell_type": "code",
   "execution_count": 27,
   "metadata": {},
   "outputs": [
    {
     "data": {
      "text/plain": [
       "1     2888\n",
       "0      826\n",
       "-1     504\n",
       "Name: Tech/NonTech, dtype: int64"
      ]
     },
     "execution_count": 27,
     "metadata": {},
     "output_type": "execute_result"
    }
   ],
   "source": [
    "new_type =pivoted_02_df[\"Tech/NonTech\"].value_counts()\n",
    "new_type"
   ]
  },
  {
   "cell_type": "code",
   "execution_count": 28,
   "metadata": {},
   "outputs": [],
   "source": [
    "\n",
    "job_type = [2888, 826, 504]\n",
    "x_axis = np.arange(len(job_type))"
   ]
  },
  {
   "cell_type": "code",
   "execution_count": 29,
   "metadata": {},
   "outputs": [
    {
     "data": {
      "text/plain": [
       "Text(0, 0.5, ' Total Responses received')"
      ]
     },
     "execution_count": 29,
     "metadata": {},
     "output_type": "execute_result"
    },
    {
     "data": {
      "image/png": "[encoded data removed]",
      "text/plain": [
       "<Figure size 640x480 with 1 Axes>"
      ]
     },
     "metadata": {},
     "output_type": "display_data"
    }
   ],
   "source": [
    "tick_locations = [value for value in x_axis]\n",
    "plt.xticks(tick_locations, [\"Tech\", \"Non Tech\",\"Did Not Answer\"])\n",
    "plt.xlim(-0.75, len(x_axis)-0.25)\n",
    "plt.ylim(100,3000)\n",
    "plt.bar(x_axis, job_type, color='r', alpha=0.5, align=\"center\")\n",
    "\n",
    "# Give our chart some labels and a title\n",
    "\n",
    "plt.title(\"Total Responses vs job type\")\n",
    "plt.xlabel(\"Job work\")\n",
    "plt.ylabel(\" Total Responses received\")"
   ]
  },
  {
   "cell_type": "code",
   "execution_count": 30,
   "metadata": {},
   "outputs": [
    {
     "data": {
      "text/plain": [
       "UserID\n",
       "1261    Yes\n",
       "1262    Yes\n",
       "1263     No\n",
       "1264    Yes\n",
       "1265    Yes\n",
       "       ... \n",
       "4214     -1\n",
       "4215     -1\n",
       "4216     -1\n",
       "4217     -1\n",
       "4218    Yes\n",
       "Name: Total Cases, Length: 2958, dtype: object"
      ]
     },
     "execution_count": 30,
     "metadata": {},
     "output_type": "execute_result"
    }
   ],
   "source": [
    "pivoted_02_df[\"Total Cases\"].dropna(how='all')"
   ]
  },
  {
   "cell_type": "code",
   "execution_count": 31,
   "metadata": {},
   "outputs": [
    {
     "data": {
      "text/plain": [
       "count     2958\n",
       "unique       3\n",
       "top        Yes\n",
       "freq      1363\n",
       "Name: Total Cases, dtype: object"
      ]
     },
     "execution_count": 31,
     "metadata": {},
     "output_type": "execute_result"
    }
   ],
   "source": [
    "pivoted_02_df[\"Total Cases\"].describe()"
   ]
  },
  {
   "cell_type": "code",
   "execution_count": 42,
   "metadata": {},
   "outputs": [
    {
     "data": {
      "text/plain": [
       "Yes    1363\n",
       "-1      863\n",
       "No      732\n",
       "Name: Total Cases, dtype: int64"
      ]
     },
     "execution_count": 42,
     "metadata": {},
     "output_type": "execute_result"
    }
   ],
   "source": [
    "cases = pivoted_02_df[\"Total Cases\"].value_counts()\n",
    "cases"
   ]
  },
  {
   "cell_type": "code",
   "execution_count": 44,
   "metadata": {},
   "outputs": [],
   "source": [
    "Total_Cases = [1363,732,863]\n",
    "x_axis = np.arange(len(Total_Cases))"
   ]
  },
  {
   "cell_type": "code",
   "execution_count": 46,
   "metadata": {},
   "outputs": [
    {
     "data": {
      "text/plain": [
       "Text(0, 0.5, 'Total number of reponse')"
      ]
     },
     "execution_count": 46,
     "metadata": {},
     "output_type": "execute_result"
    },
    {
     "data": {
      "image/png": "[encoded data removed]",
      "text/plain": [
       "<Figure size 640x480 with 1 Axes>"
      ]
     },
     "metadata": {},
     "output_type": "display_data"
    }
   ],
   "source": [
    "tick_locations = [value for value in x_axis]\n",
    "plt.xticks(tick_locations, [\"Yes\", \"No\",\"Did Not Answer\"])\n",
    "plt.xlim(-0.75, len(x_axis)-0.25)\n",
    "plt.ylim(100,1500)\n",
    "plt.bar(x_axis, Total_Cases, color='r', alpha=0.5, align=\"center\")\n",
    "\n",
    "# Give our chart some labels and a title\n",
    "\n",
    "plt.title(\"Total reponses for mental health\")\n",
    "plt.xlabel(\"Responses given\")\n",
    "plt.ylabel(\"Total number of reponse\")"
   ]
  },
  {
   "cell_type": "code",
   "execution_count": 33,
   "metadata": {},
   "outputs": [
    {
     "data": {
      "text/html": [
       "<div>\n",
       "<style scoped>\n",
       "    .dataframe tbody tr th:only-of-type {\n",
       "        vertical-align: middle;\n",
       "    }\n",
       "\n",
       "    .dataframe tbody tr th {\n",
       "        vertical-align: top;\n",
       "    }\n",
       "\n",
       "    .dataframe thead th {\n",
       "        text-align: right;\n",
       "    }\n",
       "</style>\n",
       "<table border=\"1\" class=\"dataframe\">\n",
       "  <thead>\n",
       "    <tr style=\"text-align: right;\">\n",
       "      <th>Questions</th>\n",
       "      <th>Tech/NonTech</th>\n",
       "      <th>Total Cases</th>\n",
       "    </tr>\n",
       "    <tr>\n",
       "      <th>UserID</th>\n",
       "      <th></th>\n",
       "      <th></th>\n",
       "    </tr>\n",
       "  </thead>\n",
       "  <tbody>\n",
       "    <tr>\n",
       "      <th>1</th>\n",
       "      <td>1</td>\n",
       "      <td>NaN</td>\n",
       "    </tr>\n",
       "    <tr>\n",
       "      <th>2</th>\n",
       "      <td>0</td>\n",
       "      <td>NaN</td>\n",
       "    </tr>\n",
       "    <tr>\n",
       "      <th>3</th>\n",
       "      <td>1</td>\n",
       "      <td>NaN</td>\n",
       "    </tr>\n",
       "    <tr>\n",
       "      <th>4</th>\n",
       "      <td>1</td>\n",
       "      <td>NaN</td>\n",
       "    </tr>\n",
       "    <tr>\n",
       "      <th>5</th>\n",
       "      <td>1</td>\n",
       "      <td>NaN</td>\n",
       "    </tr>\n",
       "    <tr>\n",
       "      <th>...</th>\n",
       "      <td>...</td>\n",
       "      <td>...</td>\n",
       "    </tr>\n",
       "    <tr>\n",
       "      <th>4214</th>\n",
       "      <td>0</td>\n",
       "      <td>-1</td>\n",
       "    </tr>\n",
       "    <tr>\n",
       "      <th>4215</th>\n",
       "      <td>-1</td>\n",
       "      <td>-1</td>\n",
       "    </tr>\n",
       "    <tr>\n",
       "      <th>4216</th>\n",
       "      <td>-1</td>\n",
       "      <td>-1</td>\n",
       "    </tr>\n",
       "    <tr>\n",
       "      <th>4217</th>\n",
       "      <td>1</td>\n",
       "      <td>-1</td>\n",
       "    </tr>\n",
       "    <tr>\n",
       "      <th>4218</th>\n",
       "      <td>1</td>\n",
       "      <td>Yes</td>\n",
       "    </tr>\n",
       "  </tbody>\n",
       "</table>\n",
       "<p>4218 rows × 2 columns</p>\n",
       "</div>"
      ],
      "text/plain": [
       "Questions Tech/NonTech Total Cases\n",
       "UserID                            \n",
       "1                    1         NaN\n",
       "2                    0         NaN\n",
       "3                    1         NaN\n",
       "4                    1         NaN\n",
       "5                    1         NaN\n",
       "...                ...         ...\n",
       "4214                 0          -1\n",
       "4215                -1          -1\n",
       "4216                -1          -1\n",
       "4217                 1          -1\n",
       "4218                 1         Yes\n",
       "\n",
       "[4218 rows x 2 columns]"
      ]
     },
     "execution_count": 33,
     "metadata": {},
     "output_type": "execute_result"
    }
   ],
   "source": [
    "new_df = pivoted_02_df[[\"Tech/NonTech\", \"Total Cases\"]]\n",
    "new_df"
   ]
  },
  {
   "cell_type": "code",
   "execution_count": 34,
   "metadata": {},
   "outputs": [
    {
     "data": {
      "text/plain": [
       "Total Cases  Tech/NonTech\n",
       "-1           -1              128\n",
       "             0               173\n",
       "             1               562\n",
       "No           -1              141\n",
       "             0               133\n",
       "             1               458\n",
       "Yes          -1              235\n",
       "             0               291\n",
       "             1               837\n",
       "dtype: int64"
      ]
     },
     "execution_count": 34,
     "metadata": {},
     "output_type": "execute_result"
    }
   ],
   "source": [
    "grouped = new_df.groupby(['Total Cases','Tech/NonTech']).value_counts()\n",
    "grouped"
   ]
  },
  {
   "cell_type": "code",
   "execution_count": 35,
   "metadata": {},
   "outputs": [
    {
     "data": {
      "text/plain": [
       "Text(0.5, 1.0, 'Mental Health cases found')"
      ]
     },
     "execution_count": 35,
     "metadata": {},
     "output_type": "execute_result"
    },
    {
     "data": {
      "image/png": "[encoded data removed]",
      "text/plain": [
       "<Figure size 640x480 with 1 Axes>"
      ]
     },
     "metadata": {},
     "output_type": "display_data"
    }
   ],
   "source": [
    "labels = [\"%Tech\",\"%NonTech\", \"%Did not answer\"]\n",
    "sizes = [837,291,235]\n",
    "colors = [\"lightcoral\",\"yellow\", \"lightskyblue\"]\n",
    "explode = (0, 0,0.1)\n",
    "plt.pie(sizes, labels=labels, explode=explode, colors=colors,\n",
    "        autopct=\"%1.1f%%\", shadow=True, startangle=140)\n",
    "plt.title(\"Mental Health cases found\")"
   ]
  },
  {
   "attachments": {},
   "cell_type": "markdown",
   "metadata": {},
   "source": [
    "Out of total responses received from Tech/NonTech, it can be concluded clearly that Tech job has highest percentage of 61.4% of mental health problems reported."
   ]
  }
 ],
 "metadata": {
  "kernelspec": {
   "display_name": "base",
   "language": "python",
   "name": "python3"
  },
  "language_info": {
   "codemirror_mode": {
    "name": "ipython",
    "version": 3
   },
   "file_extension": ".py",
   "mimetype": "text/x-python",
   "name": "python",
   "nbconvert_exporter": "python",
   "pygments_lexer": "ipython3",
   "version": "3.9.13"
  },
  "orig_nbformat": 4,
  "vscode": {
   "interpreter": {
    "hash": "5a1a39edc583d97b4d888ab7a41fc3ad46d19ede7e4130373606867799ce11e0"
   }
  }
 },
 "nbformat": 4,
 "nbformat_minor": 2
}
