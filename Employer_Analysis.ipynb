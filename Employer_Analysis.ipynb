{
 "cells": [
  {
   "attachments": {},
   "cell_type": "markdown",
   "metadata": {},
   "source": [
    "### Are employers doing enough to address their employee's mental health?\n",
    "    \n",
    "    In analyzing mental health trends inside the tech industry, it is important to see whether or not employers are doing enough to address their employees mental health needs. This survey gives us insight into that by asking the following three questions:\n",
    "    \n",
    "    1. Do you know the options for mental health care available under your employer-provided health coverage?\n",
    "    \n",
    "        Granted employees are responsible for knowing their own benefits that are provided by their healthcare. nonetheless, employers can make sure they are communicating those benefits or at the very least reminding their employees that they have mental health benefits and they should findo ut what they are. \n",
    "\n",
    "    2. Does your employer offer resources to learn more about mental health disorders and options for seeking help?\n",
    "\n",
    "        At this point, every company should be offering resources to help employers with learning and managing their mental health disorders. We expect to see respondents answer yes to this overwhelmingly. \n",
    "\n",
    "    3. Has your employer ever formally discussed mental health (for example, as part of a wellness campaign or other official communication)?\n",
    "\n",
    "        It is important for companies to have a good line of communcation with their employees. Moreover, it is important for them to keep a consistent dialogue open about mental heath. we would hope that mostr respondents answer yes to this question.\n",
    "\n",
    "\n",
    "    The thought process here is that the more yes responses we have the more we can say that tech companies are doing enough to care of their employees' mental health and the more no's and I don't knows There are The more these companies need to improve. To analyze this, we'll first look at how times each respondent answered 'yes' , 'no' and 'I don't know'. Second, we'll look at each question individually.\n",
    "\n",
    "      \n",
    "\n",
    "    "
   ]
  },
  {
   "cell_type": "code",
   "execution_count": 16,
   "metadata": {},
   "outputs": [],
   "source": [
    "import pandas as pd \n",
    "import matplotlib  as mp\n"
   ]
  },
  {
   "cell_type": "code",
   "execution_count": 49,
   "metadata": {},
   "outputs": [
    {
     "data": {
      "text/html": [
       "<div>\n",
       "<style scoped>\n",
       "    .dataframe tbody tr th:only-of-type {\n",
       "        vertical-align: middle;\n",
       "    }\n",
       "\n",
       "    .dataframe tbody tr th {\n",
       "        vertical-align: top;\n",
       "    }\n",
       "\n",
       "    .dataframe thead th {\n",
       "        text-align: right;\n",
       "    }\n",
       "</style>\n",
       "<table border=\"1\" class=\"dataframe\">\n",
       "  <thead>\n",
       "    <tr style=\"text-align: right;\">\n",
       "      <th></th>\n",
       "      <th>UserID</th>\n",
       "      <th>Age</th>\n",
       "      <th>Gender</th>\n",
       "      <th>Country</th>\n",
       "      <th>State/Territory</th>\n",
       "      <th>Do you know the options for mental health care available under your employer-provided health coverage?</th>\n",
       "      <th>Does your employer offer resources to learn more about mental health disorders and options for seeking help?</th>\n",
       "      <th>Has your employer ever formally discussed mental health (for example, as part of a wellness campaign or other official communication)?</th>\n",
       "    </tr>\n",
       "  </thead>\n",
       "  <tbody>\n",
       "    <tr>\n",
       "      <th>0</th>\n",
       "      <td>1</td>\n",
       "      <td>37</td>\n",
       "      <td>Female</td>\n",
       "      <td>United States</td>\n",
       "      <td>Illinois</td>\n",
       "      <td>Did Not Answer</td>\n",
       "      <td>Did Not Answer</td>\n",
       "      <td>Did Not Answer</td>\n",
       "    </tr>\n",
       "    <tr>\n",
       "      <th>1</th>\n",
       "      <td>2</td>\n",
       "      <td>44</td>\n",
       "      <td>Male</td>\n",
       "      <td>United States</td>\n",
       "      <td>Indiana</td>\n",
       "      <td>Did Not Answer</td>\n",
       "      <td>Did Not Answer</td>\n",
       "      <td>Did Not Answer</td>\n",
       "    </tr>\n",
       "    <tr>\n",
       "      <th>2</th>\n",
       "      <td>3</td>\n",
       "      <td>32</td>\n",
       "      <td>Male</td>\n",
       "      <td>Canada</td>\n",
       "      <td>Not Applicable</td>\n",
       "      <td>Did Not Answer</td>\n",
       "      <td>Did Not Answer</td>\n",
       "      <td>Did Not Answer</td>\n",
       "    </tr>\n",
       "    <tr>\n",
       "      <th>3</th>\n",
       "      <td>4</td>\n",
       "      <td>31</td>\n",
       "      <td>Male</td>\n",
       "      <td>United Kingdom</td>\n",
       "      <td>Not Applicable</td>\n",
       "      <td>Did Not Answer</td>\n",
       "      <td>Did Not Answer</td>\n",
       "      <td>Did Not Answer</td>\n",
       "    </tr>\n",
       "    <tr>\n",
       "      <th>4</th>\n",
       "      <td>5</td>\n",
       "      <td>31</td>\n",
       "      <td>Male</td>\n",
       "      <td>United States</td>\n",
       "      <td>Texas</td>\n",
       "      <td>Did Not Answer</td>\n",
       "      <td>Did Not Answer</td>\n",
       "      <td>Did Not Answer</td>\n",
       "    </tr>\n",
       "  </tbody>\n",
       "</table>\n",
       "</div>"
      ],
      "text/plain": [
       "   UserID  Age  Gender         Country State/Territory  \\\n",
       "0       1   37  Female   United States        Illinois   \n",
       "1       2   44    Male   United States         Indiana   \n",
       "2       3   32    Male          Canada  Not Applicable   \n",
       "3       4   31    Male  United Kingdom  Not Applicable   \n",
       "4       5   31    Male   United States           Texas   \n",
       "\n",
       "  Do you know the options for mental health care available under your employer-provided health coverage?  \\\n",
       "0                                     Did Not Answer                                                       \n",
       "1                                     Did Not Answer                                                       \n",
       "2                                     Did Not Answer                                                       \n",
       "3                                     Did Not Answer                                                       \n",
       "4                                     Did Not Answer                                                       \n",
       "\n",
       "  Does your employer offer resources to learn more about mental health disorders and options for seeking help?  \\\n",
       "0                                     Did Not Answer                                                             \n",
       "1                                     Did Not Answer                                                             \n",
       "2                                     Did Not Answer                                                             \n",
       "3                                     Did Not Answer                                                             \n",
       "4                                     Did Not Answer                                                             \n",
       "\n",
       "  Has your employer ever formally discussed mental health (for example, as part of a wellness campaign or other official communication)?  \n",
       "0                                     Did Not Answer                                                                                      \n",
       "1                                     Did Not Answer                                                                                      \n",
       "2                                     Did Not Answer                                                                                      \n",
       "3                                     Did Not Answer                                                                                      \n",
       "4                                     Did Not Answer                                                                                      "
      ]
     },
     "execution_count": 49,
     "metadata": {},
     "output_type": "execute_result"
    }
   ],
   "source": [
    "file = 'Data/Survey_Data.csv'\n",
    "\n",
    "Survey_Data = pd.read_csv(file)\n",
    "\n",
    "Survey_Data.head()"
   ]
  },
  {
   "cell_type": "code",
   "execution_count": null,
   "metadata": {},
   "outputs": [],
   "source": [
    "\n"
   ]
  },
  {
   "cell_type": "code",
   "execution_count": 50,
   "metadata": {},
   "outputs": [],
   "source": [
    "# Name questions 1 , 2 and 3 for ease of use.\n",
    "\n",
    "Survey_Data = Survey_Data.rename(columns ={'Do you know the options for mental health care available under your employer-provided health coverage?' : 'Question 1',\n",
    "                                            'Does your employer offer resources to learn more about mental health disorders and options for seeking help?': 'Question 2',\n",
    "                                            'Has your employer ever formally discussed mental health (for example, as part of a wellness campaign or other official communication)?' : 'Question 3'})"
   ]
  },
  {
   "cell_type": "code",
   "execution_count": 36,
   "metadata": {},
   "outputs": [],
   "source": [
    "Survey_Data = Survey_Data[(Survey_Data['Question 1'] != 'Did Not Answer') & (Survey_Data['Question 2'] != 'Did Not Answer') & (Survey_Data['Question 3'] != 'Did Not Answer') ]"
   ]
  },
  {
   "cell_type": "code",
   "execution_count": 51,
   "metadata": {},
   "outputs": [
    {
     "data": {
      "text/html": [
       "<div>\n",
       "<style scoped>\n",
       "    .dataframe tbody tr th:only-of-type {\n",
       "        vertical-align: middle;\n",
       "    }\n",
       "\n",
       "    .dataframe tbody tr th {\n",
       "        vertical-align: top;\n",
       "    }\n",
       "\n",
       "    .dataframe thead th {\n",
       "        text-align: right;\n",
       "    }\n",
       "</style>\n",
       "<table border=\"1\" class=\"dataframe\">\n",
       "  <thead>\n",
       "    <tr style=\"text-align: right;\">\n",
       "      <th></th>\n",
       "      <th>UserID</th>\n",
       "      <th>Age</th>\n",
       "      <th>Gender</th>\n",
       "      <th>Country</th>\n",
       "      <th>State/Territory</th>\n",
       "      <th>Question 1</th>\n",
       "      <th>Question 2</th>\n",
       "      <th>Question 3</th>\n",
       "      <th>Yes Responses</th>\n",
       "    </tr>\n",
       "  </thead>\n",
       "  <tbody>\n",
       "    <tr>\n",
       "      <th>0</th>\n",
       "      <td>1</td>\n",
       "      <td>37</td>\n",
       "      <td>Female</td>\n",
       "      <td>United States</td>\n",
       "      <td>Illinois</td>\n",
       "      <td>Did Not Answer</td>\n",
       "      <td>Did Not Answer</td>\n",
       "      <td>Did Not Answer</td>\n",
       "      <td>0</td>\n",
       "    </tr>\n",
       "    <tr>\n",
       "      <th>1</th>\n",
       "      <td>2</td>\n",
       "      <td>44</td>\n",
       "      <td>Male</td>\n",
       "      <td>United States</td>\n",
       "      <td>Indiana</td>\n",
       "      <td>Did Not Answer</td>\n",
       "      <td>Did Not Answer</td>\n",
       "      <td>Did Not Answer</td>\n",
       "      <td>0</td>\n",
       "    </tr>\n",
       "    <tr>\n",
       "      <th>2</th>\n",
       "      <td>3</td>\n",
       "      <td>32</td>\n",
       "      <td>Male</td>\n",
       "      <td>Canada</td>\n",
       "      <td>Not Applicable</td>\n",
       "      <td>Did Not Answer</td>\n",
       "      <td>Did Not Answer</td>\n",
       "      <td>Did Not Answer</td>\n",
       "      <td>0</td>\n",
       "    </tr>\n",
       "    <tr>\n",
       "      <th>3</th>\n",
       "      <td>4</td>\n",
       "      <td>31</td>\n",
       "      <td>Male</td>\n",
       "      <td>United Kingdom</td>\n",
       "      <td>Not Applicable</td>\n",
       "      <td>Did Not Answer</td>\n",
       "      <td>Did Not Answer</td>\n",
       "      <td>Did Not Answer</td>\n",
       "      <td>0</td>\n",
       "    </tr>\n",
       "    <tr>\n",
       "      <th>4</th>\n",
       "      <td>5</td>\n",
       "      <td>31</td>\n",
       "      <td>Male</td>\n",
       "      <td>United States</td>\n",
       "      <td>Texas</td>\n",
       "      <td>Did Not Answer</td>\n",
       "      <td>Did Not Answer</td>\n",
       "      <td>Did Not Answer</td>\n",
       "      <td>0</td>\n",
       "    </tr>\n",
       "    <tr>\n",
       "      <th>...</th>\n",
       "      <td>...</td>\n",
       "      <td>...</td>\n",
       "      <td>...</td>\n",
       "      <td>...</td>\n",
       "      <td>...</td>\n",
       "      <td>...</td>\n",
       "      <td>...</td>\n",
       "      <td>...</td>\n",
       "      <td>...</td>\n",
       "    </tr>\n",
       "    <tr>\n",
       "      <th>4213</th>\n",
       "      <td>4214</td>\n",
       "      <td>27</td>\n",
       "      <td>Male</td>\n",
       "      <td>India</td>\n",
       "      <td>Not Applicable</td>\n",
       "      <td>No</td>\n",
       "      <td>I don't know</td>\n",
       "      <td>No</td>\n",
       "      <td>0</td>\n",
       "    </tr>\n",
       "    <tr>\n",
       "      <th>4214</th>\n",
       "      <td>4215</td>\n",
       "      <td>48</td>\n",
       "      <td>Male</td>\n",
       "      <td>United States</td>\n",
       "      <td>Louisiana</td>\n",
       "      <td>Did Not Answer</td>\n",
       "      <td>Did Not Answer</td>\n",
       "      <td>Did Not Answer</td>\n",
       "      <td>0</td>\n",
       "    </tr>\n",
       "    <tr>\n",
       "      <th>4215</th>\n",
       "      <td>4216</td>\n",
       "      <td>50</td>\n",
       "      <td>Male</td>\n",
       "      <td>India</td>\n",
       "      <td>Not Applicable</td>\n",
       "      <td>Did Not Answer</td>\n",
       "      <td>Did Not Answer</td>\n",
       "      <td>Did Not Answer</td>\n",
       "      <td>0</td>\n",
       "    </tr>\n",
       "    <tr>\n",
       "      <th>4216</th>\n",
       "      <td>4217</td>\n",
       "      <td>30</td>\n",
       "      <td>Female</td>\n",
       "      <td>India</td>\n",
       "      <td>Not Applicable</td>\n",
       "      <td>No</td>\n",
       "      <td>No</td>\n",
       "      <td>No</td>\n",
       "      <td>0</td>\n",
       "    </tr>\n",
       "    <tr>\n",
       "      <th>4217</th>\n",
       "      <td>4218</td>\n",
       "      <td>24</td>\n",
       "      <td>Female</td>\n",
       "      <td>United States</td>\n",
       "      <td>Oregon</td>\n",
       "      <td>Yes</td>\n",
       "      <td>Yes</td>\n",
       "      <td>No</td>\n",
       "      <td>2</td>\n",
       "    </tr>\n",
       "  </tbody>\n",
       "</table>\n",
       "<p>4218 rows × 9 columns</p>\n",
       "</div>"
      ],
      "text/plain": [
       "      UserID  Age  Gender         Country State/Territory      Question 1  \\\n",
       "0          1   37  Female   United States        Illinois  Did Not Answer   \n",
       "1          2   44    Male   United States         Indiana  Did Not Answer   \n",
       "2          3   32    Male          Canada  Not Applicable  Did Not Answer   \n",
       "3          4   31    Male  United Kingdom  Not Applicable  Did Not Answer   \n",
       "4          5   31    Male   United States           Texas  Did Not Answer   \n",
       "...      ...  ...     ...             ...             ...             ...   \n",
       "4213    4214   27    Male           India  Not Applicable              No   \n",
       "4214    4215   48    Male   United States       Louisiana  Did Not Answer   \n",
       "4215    4216   50    Male           India  Not Applicable  Did Not Answer   \n",
       "4216    4217   30  Female           India  Not Applicable              No   \n",
       "4217    4218   24  Female   United States          Oregon             Yes   \n",
       "\n",
       "          Question 2      Question 3  Yes Responses  \n",
       "0     Did Not Answer  Did Not Answer              0  \n",
       "1     Did Not Answer  Did Not Answer              0  \n",
       "2     Did Not Answer  Did Not Answer              0  \n",
       "3     Did Not Answer  Did Not Answer              0  \n",
       "4     Did Not Answer  Did Not Answer              0  \n",
       "...              ...             ...            ...  \n",
       "4213    I don't know              No              0  \n",
       "4214  Did Not Answer  Did Not Answer              0  \n",
       "4215  Did Not Answer  Did Not Answer              0  \n",
       "4216              No              No              0  \n",
       "4217             Yes              No              2  \n",
       "\n",
       "[4218 rows x 9 columns]"
      ]
     },
     "execution_count": 51,
     "metadata": {},
     "output_type": "execute_result"
    }
   ],
   "source": [
    "Survey_Data[\"Yes Responses\"] = Survey_Data.apply(lambda x: (x == 'Yes').sum(), axis=1)\n",
    "#Survey_Data[\"No Responses\"] = Survey_Data.apply(lambda x: (x == 'No').sum(), axis=1)\n",
    "#Survey_Data[\"'I don't know' Responses\"] = Survey_Data.apply(lambda x: (x == \"I don't know\").sum(), axis=1)\n",
    "\n",
    "Survey_Data"
   ]
  },
  {
   "attachments": {},
   "cell_type": "markdown",
   "metadata": {},
   "source": []
  },
  {
   "cell_type": "code",
   "execution_count": 39,
   "metadata": {},
   "outputs": [
    {
     "data": {
      "text/html": [
       "<div>\n",
       "<style scoped>\n",
       "    .dataframe tbody tr th:only-of-type {\n",
       "        vertical-align: middle;\n",
       "    }\n",
       "\n",
       "    .dataframe tbody tr th {\n",
       "        vertical-align: top;\n",
       "    }\n",
       "\n",
       "    .dataframe thead th {\n",
       "        text-align: right;\n",
       "    }\n",
       "</style>\n",
       "<table border=\"1\" class=\"dataframe\">\n",
       "  <thead>\n",
       "    <tr style=\"text-align: right;\">\n",
       "      <th></th>\n",
       "      <th>Yes</th>\n",
       "    </tr>\n",
       "  </thead>\n",
       "  <tbody>\n",
       "    <tr>\n",
       "      <th>0</th>\n",
       "      <td>980</td>\n",
       "    </tr>\n",
       "    <tr>\n",
       "      <th>1</th>\n",
       "      <td>606</td>\n",
       "    </tr>\n",
       "    <tr>\n",
       "      <th>2</th>\n",
       "      <td>332</td>\n",
       "    </tr>\n",
       "    <tr>\n",
       "      <th>3</th>\n",
       "      <td>273</td>\n",
       "    </tr>\n",
       "  </tbody>\n",
       "</table>\n",
       "</div>"
      ],
      "text/plain": [
       "   Yes\n",
       "0  980\n",
       "1  606\n",
       "2  332\n",
       "3  273"
      ]
     },
     "execution_count": 39,
     "metadata": {},
     "output_type": "execute_result"
    }
   ],
   "source": [
    "yes = Survey_Data[\"Yes Responses\"].value_counts()\n",
    "#no = Survey_Data[\"No Responses\"].value_counts()\n",
    "#idk = Survey_Data[\"'I don't know' Responses\"].value_counts()\n",
    "\n",
    "Responses = pd.DataFrame({\n",
    "                \"Yes\" : yes\n",
    "})\n",
    "\n",
    "\n",
    "#Responses[\"I don't know\"] = Responses[\"I don't know\"].fillna(value=0).astype('int')\n",
    "\n",
    "Responses\n",
    "\n"
   ]
  },
  {
   "cell_type": "code",
   "execution_count": 52,
   "metadata": {},
   "outputs": [
    {
     "data": {
      "text/plain": [
       "UserID             4218\n",
       "Age                4218\n",
       "Gender             4218\n",
       "Country            4218\n",
       "State/Territory    4218\n",
       "Question 1         4218\n",
       "Question 2         4218\n",
       "Question 3         4218\n",
       "Yes Responses      4218\n",
       "dtype: int64"
      ]
     },
     "execution_count": 52,
     "metadata": {},
     "output_type": "execute_result"
    }
   ],
   "source": []
  },
  {
   "cell_type": "code",
   "execution_count": 47,
   "metadata": {},
   "outputs": [
    {
     "data": {
      "text/plain": [
       "<AxesSubplot:title={'center':'How Many Questions Each Respondent Answered Yes To'}, ylabel='Number of Respondents'>"
      ]
     },
     "execution_count": 47,
     "metadata": {},
     "output_type": "execute_result"
    },
    {
     "data": {
      "image/png": "[encoded data removed]",
      "text/plain": [
       "<Figure size 432x288 with 1 Axes>"
      ]
     },
     "metadata": {
      "needs_background": "light"
     },
     "output_type": "display_data"
    }
   ],
   "source": [
    "(Responses\n",
    "    .plot(\n",
    "    kind='bar',\n",
    "    ylabel='Number of Respondents',\n",
    "    color=['mediumpurple'],\n",
    "    title='How Many Questions Each Respondent Answered Yes To',\n",
    "    rot=0,\n",
    "    edgecolor='black',\n",
    "    legend=False\n",
    "    ))\n",
    "\n",
    "\n",
    "\n",
    "  \n"
   ]
  },
  {
   "cell_type": "code",
   "execution_count": null,
   "metadata": {},
   "outputs": [],
   "source": []
  },
  {
   "attachments": {},
   "cell_type": "markdown",
   "metadata": {},
   "source": [
    "Here, each respondent's responses were aggregated to count how many times each respondent answered 'yes' , 'no' or 'I don't know' to a question. For example, if a respondent answered 'yes' to each question then they would be assigned a 3 and if they answered 'yes' to one question they would be assigned a 1. The graph shows a couple of interesting trends. First, there was just below 1000 respondents who didn't answer yes to any of the questions which more than doubled the amount of respondents who didn't answer no to any of the questions. Second, there were significantly more respondents who answered no to atleast two of the questions as opposed to answering yes to atleaast two questions. Finally, there were way more respondents who answered no to all three questions. In an ideal world for a company, the trend would be the opposite where there are way more yes responses than no responses. This shows that tech companies can do more to help their employees with issues related to mental health but it's important to look at the responses for each individual question in order to make an accurate judgement of how well employters are handling their employees' mental health\n",
    "\n"
   ]
  },
  {
   "cell_type": "code",
   "execution_count": 23,
   "metadata": {},
   "outputs": [
    {
     "data": {
      "text/html": [
       "<div>\n",
       "<style scoped>\n",
       "    .dataframe tbody tr th:only-of-type {\n",
       "        vertical-align: middle;\n",
       "    }\n",
       "\n",
       "    .dataframe tbody tr th {\n",
       "        vertical-align: top;\n",
       "    }\n",
       "\n",
       "    .dataframe thead th {\n",
       "        text-align: right;\n",
       "    }\n",
       "</style>\n",
       "<table border=\"1\" class=\"dataframe\">\n",
       "  <thead>\n",
       "    <tr style=\"text-align: right;\">\n",
       "      <th></th>\n",
       "      <th>Question 1</th>\n",
       "      <th>Question 2</th>\n",
       "      <th>Question 3</th>\n",
       "    </tr>\n",
       "  </thead>\n",
       "  <tbody>\n",
       "    <tr>\n",
       "      <th>Yes</th>\n",
       "      <td>869</td>\n",
       "      <td>668</td>\n",
       "      <td>552</td>\n",
       "    </tr>\n",
       "    <tr>\n",
       "      <th>No</th>\n",
       "      <td>1322</td>\n",
       "      <td>899</td>\n",
       "      <td>1426</td>\n",
       "    </tr>\n",
       "    <tr>\n",
       "      <th>I don't know</th>\n",
       "      <td>0</td>\n",
       "      <td>624</td>\n",
       "      <td>213</td>\n",
       "    </tr>\n",
       "  </tbody>\n",
       "</table>\n",
       "</div>"
      ],
      "text/plain": [
       "              Question 1  Question 2  Question 3\n",
       "Yes                  869         668         552\n",
       "No                  1322         899        1426\n",
       "I don't know           0         624         213"
      ]
     },
     "execution_count": 23,
     "metadata": {},
     "output_type": "execute_result"
    }
   ],
   "source": [
    "question_1= Survey_Data['Question 1'].value_counts()\n",
    "question_2 = Survey_Data['Question 2'].value_counts()\n",
    "question_3 = Survey_Data['Question 3'].value_counts()\n",
    "\n",
    "questions_df = pd.DataFrame({\n",
    "    'Question 1': question_1,\n",
    "    'Question 2': question_2,\n",
    "    'Question 3': question_3\n",
    "})\n",
    "\n",
    "questions_df['Question 1'] = questions_df['Question 1'].fillna(value=0 ).astype('int')\n",
    "\n",
    "questions_df.sort_index(ascending=False)"
   ]
  },
  {
   "cell_type": "code",
   "execution_count": 32,
   "metadata": {},
   "outputs": [
    {
     "data": {
      "text/plain": [
       "<AxesSubplot:title={'center':'Do you know the options for mental health care available under your employer-provided health coverage?'}, ylabel='Number of Responses'>"
      ]
     },
     "execution_count": 32,
     "metadata": {},
     "output_type": "execute_result"
    },
    {
     "data": {
      "image/png": "[encoded data removed]",
      "text/plain": [
       "<Figure size 432x288 with 1 Axes>"
      ]
     },
     "metadata": {
      "needs_background": "light"
     },
     "output_type": "display_data"
    }
   ],
   "source": [
    "(question_1\n",
    "        .sort_index(ascending=False)\n",
    "        .plot(\n",
    "            kind='bar' , \n",
    "            title='Do you know the options for mental health care available under your employer-provided health coverage?' ,\n",
    "            rot=0,\n",
    "            color=\"mediumpurple\",\n",
    "            edgecolor='black',\n",
    "            ylabel='Number of Responses'))"
   ]
  },
  {
   "attachments": {},
   "cell_type": "markdown",
   "metadata": {},
   "source": [
    "This graph shows that there are more respondents that do not know their options from their healthcare plan than not. Companies can be doing more to tell their employees what benefits they have or atleast remind them to atleast look at what mental healthcare optiosn are available  to them. Granted employees should know or atleast want to look into all of the benefits that they have under their healthcare plan. "
   ]
  },
  {
   "cell_type": "code",
   "execution_count": 31,
   "metadata": {},
   "outputs": [
    {
     "data": {
      "text/plain": [
       "<AxesSubplot:title={'center':'Does your employer offer resources to learn more about mental health disorders and options for seeking help?'}, ylabel='Number of Responses'>"
      ]
     },
     "execution_count": 31,
     "metadata": {},
     "output_type": "execute_result"
    },
    {
     "data": {
      "image/png": "[encoded data removed]",
      "text/plain": [
       "<Figure size 432x288 with 1 Axes>"
      ]
     },
     "metadata": {
      "needs_background": "light"
     },
     "output_type": "display_data"
    }
   ],
   "source": [
    "(question_2\n",
    "        .sort_index(ascending=False)\n",
    "        .plot(\n",
    "            kind='bar' , \n",
    "            title='Does your employer offer resources to learn more about mental health disorders and options for seeking help?' ,\n",
    "            rot=0,\n",
    "            facecolor=\"mediumpurple\",\n",
    "            edgecolor='black',\n",
    "            ylabel='Number of Responses'))"
   ]
  },
  {
   "attachments": {},
   "cell_type": "markdown",
   "metadata": {},
   "source": [
    "This graph shows how people responded to the question: 'Does your employer offer resources to learn more about mental health disorders and options for seeking help?'. Again, the same trend shows that more people answered no than yes although it is much closer (only a gap of 200 to 300). This graph does show two causes for concern. First, there are tech companies that are not offering resources to learn about mental health or options for seeking help. Second, a lot of respondents answered 'I don't know'. If companies are providing these resources then it is possible they are not doing a good enough job communicating with their employees about them. "
   ]
  },
  {
   "cell_type": "code",
   "execution_count": 30,
   "metadata": {},
   "outputs": [
    {
     "data": {
      "text/plain": [
       "<AxesSubplot:title={'center':'Has your employer ever formally discussed mental health?'}, ylabel='Number of Responses'>"
      ]
     },
     "execution_count": 30,
     "metadata": {},
     "output_type": "execute_result"
    },
    {
     "data": {
      "image/png": "[encoded data removed]",
      "text/plain": [
       "<Figure size 432x288 with 1 Axes>"
      ]
     },
     "metadata": {
      "needs_background": "light"
     },
     "output_type": "display_data"
    }
   ],
   "source": [
    "(question_3\n",
    "        .sort_index(ascending=False)\n",
    "        .plot(\n",
    "            kind='bar' , \n",
    "            title='Has your employer ever formally discussed mental health?' ,\n",
    "            rot=0,\n",
    "            facecolor=\"mediumpurple\",\n",
    "            edgecolor='black',\n",
    "            ylabel='Number of Responses'))"
   ]
  },
  {
   "attachments": {},
   "cell_type": "markdown",
   "metadata": {},
   "source": [
    "This graph shows that employers are overwhemingly failing at communicating with their employees about mental health. Combining this insight with the insights above makes it clear employers are not doing enough to assist their employees with their mental health needs. It seems like they are several companies that do not have resources or programs to help their employees to begin with. The biggest issue seems to be though that there is a lack of communication on the topic. Companies need to either open up or vastly improve dialogue on the subject."
   ]
  }
 ],
 "metadata": {
  "kernelspec": {
   "display_name": "Python 3",
   "language": "python",
   "name": "python3"
  },
  "language_info": {
   "codemirror_mode": {
    "name": "ipython",
    "version": 3
   },
   "file_extension": ".py",
   "mimetype": "text/x-python",
   "name": "python",
   "nbconvert_exporter": "python",
   "pygments_lexer": "ipython3",
   "version": "3.8.5"
  },
  "orig_nbformat": 4,
  "vscode": {
   "interpreter": {
    "hash": "58791a48c0527c1237af62f454c34ab101de3ca1b7c2175a1e9c8fbae10d0d82"
   }
  }
 },
 "nbformat": 4,
 "nbformat_minor": 2
}
